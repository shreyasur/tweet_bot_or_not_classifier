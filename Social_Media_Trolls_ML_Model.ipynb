{
 "cells": [
  {
   "cell_type": "code",
   "execution_count": 2,
   "metadata": {},
   "outputs": [],
   "source": [
    "import pandas as pd\n"
   ]
  },
  {
   "cell_type": "markdown",
   "metadata": {},
   "source": [
    "# Reading all the CSV files"
   ]
  },
  {
   "cell_type": "code",
   "execution_count": 3,
   "metadata": {},
   "outputs": [],
   "source": [
    "df1=pd.read_csv('IRAhandle_tweets_1.csv')\n",
    "df2=pd.read_csv('IRAhandle_tweets_2.csv')\n",
    "df3=pd.read_csv('IRAhandle_tweets_3.csv')\n",
    "df4=pd.read_csv('IRAhandle_tweets_4.csv')\n",
    "df5=pd.read_csv('IRAhandle_tweets_5.csv')\n",
    "df6=pd.read_csv('IRAhandle_tweets_6.csv')\n",
    "df7=pd.read_csv('IRAhandle_tweets_7.csv')\n",
    "df8=pd.read_csv('IRAhandle_tweets_8.csv')\n",
    "df9=pd.read_csv('IRAhandle_tweets_9.csv')"
   ]
  },
  {
   "cell_type": "code",
   "execution_count": 4,
   "metadata": {},
   "outputs": [],
   "source": [
    "df=pd.concat([df1,df2,df3,df4,df4,df5,df6,df7,df8,df9],ignore_index=True)"
   ]
  },
  {
   "cell_type": "code",
   "execution_count": 5,
   "metadata": {},
   "outputs": [
    {
     "data": {
      "text/plain": [
       "(3361823, 15)"
      ]
     },
     "execution_count": 5,
     "metadata": {},
     "output_type": "execute_result"
    }
   ],
   "source": [
    "df.shape"
   ]
  },
  {
   "cell_type": "code",
   "execution_count": null,
   "metadata": {},
   "outputs": [],
   "source": []
  },
  {
   "cell_type": "code",
   "execution_count": 6,
   "metadata": {},
   "outputs": [
    {
     "data": {
      "text/plain": [
       "(3361823, 15)"
      ]
     },
     "execution_count": 6,
     "metadata": {},
     "output_type": "execute_result"
    }
   ],
   "source": [
    "df.shape"
   ]
  },
  {
   "cell_type": "code",
   "execution_count": 7,
   "metadata": {},
   "outputs": [
    {
     "data": {
      "text/html": [
       "<div>\n",
       "<style scoped>\n",
       "    .dataframe tbody tr th:only-of-type {\n",
       "        vertical-align: middle;\n",
       "    }\n",
       "\n",
       "    .dataframe tbody tr th {\n",
       "        vertical-align: top;\n",
       "    }\n",
       "\n",
       "    .dataframe thead th {\n",
       "        text-align: right;\n",
       "    }\n",
       "</style>\n",
       "<table border=\"1\" class=\"dataframe\">\n",
       "  <thead>\n",
       "    <tr style=\"text-align: right;\">\n",
       "      <th></th>\n",
       "      <th>external_author_id</th>\n",
       "      <th>author</th>\n",
       "      <th>content</th>\n",
       "      <th>region</th>\n",
       "      <th>language</th>\n",
       "      <th>publish_date</th>\n",
       "      <th>harvested_date</th>\n",
       "      <th>following</th>\n",
       "      <th>followers</th>\n",
       "      <th>updates</th>\n",
       "      <th>post_type</th>\n",
       "      <th>account_type</th>\n",
       "      <th>new_june_2018</th>\n",
       "      <th>retweet</th>\n",
       "      <th>account_category</th>\n",
       "    </tr>\n",
       "  </thead>\n",
       "  <tbody>\n",
       "    <tr>\n",
       "      <th>0</th>\n",
       "      <td>9.060000e+17</td>\n",
       "      <td>10_GOP</td>\n",
       "      <td>\"We have a sitting Democrat US Senator on tria...</td>\n",
       "      <td>Unknown</td>\n",
       "      <td>English</td>\n",
       "      <td>10/1/2017 19:58</td>\n",
       "      <td>10/1/2017 19:59</td>\n",
       "      <td>1052</td>\n",
       "      <td>9636</td>\n",
       "      <td>253</td>\n",
       "      <td>NaN</td>\n",
       "      <td>Right</td>\n",
       "      <td>0</td>\n",
       "      <td>0</td>\n",
       "      <td>RightTroll</td>\n",
       "    </tr>\n",
       "    <tr>\n",
       "      <th>1</th>\n",
       "      <td>9.060000e+17</td>\n",
       "      <td>10_GOP</td>\n",
       "      <td>Marshawn Lynch arrives to game in anti-Trump s...</td>\n",
       "      <td>Unknown</td>\n",
       "      <td>English</td>\n",
       "      <td>10/1/2017 22:43</td>\n",
       "      <td>10/1/2017 22:43</td>\n",
       "      <td>1054</td>\n",
       "      <td>9637</td>\n",
       "      <td>254</td>\n",
       "      <td>NaN</td>\n",
       "      <td>Right</td>\n",
       "      <td>0</td>\n",
       "      <td>0</td>\n",
       "      <td>RightTroll</td>\n",
       "    </tr>\n",
       "    <tr>\n",
       "      <th>2</th>\n",
       "      <td>9.060000e+17</td>\n",
       "      <td>10_GOP</td>\n",
       "      <td>Daughter of fallen Navy Sailor delivers powerf...</td>\n",
       "      <td>Unknown</td>\n",
       "      <td>English</td>\n",
       "      <td>10/1/2017 22:50</td>\n",
       "      <td>10/1/2017 22:51</td>\n",
       "      <td>1054</td>\n",
       "      <td>9637</td>\n",
       "      <td>255</td>\n",
       "      <td>RETWEET</td>\n",
       "      <td>Right</td>\n",
       "      <td>0</td>\n",
       "      <td>1</td>\n",
       "      <td>RightTroll</td>\n",
       "    </tr>\n",
       "    <tr>\n",
       "      <th>3</th>\n",
       "      <td>9.060000e+17</td>\n",
       "      <td>10_GOP</td>\n",
       "      <td>JUST IN: President Trump dedicates Presidents ...</td>\n",
       "      <td>Unknown</td>\n",
       "      <td>English</td>\n",
       "      <td>10/1/2017 23:52</td>\n",
       "      <td>10/1/2017 23:52</td>\n",
       "      <td>1062</td>\n",
       "      <td>9642</td>\n",
       "      <td>256</td>\n",
       "      <td>NaN</td>\n",
       "      <td>Right</td>\n",
       "      <td>0</td>\n",
       "      <td>0</td>\n",
       "      <td>RightTroll</td>\n",
       "    </tr>\n",
       "    <tr>\n",
       "      <th>4</th>\n",
       "      <td>9.060000e+17</td>\n",
       "      <td>10_GOP</td>\n",
       "      <td>19,000 RESPECTING our National Anthem! #StandF...</td>\n",
       "      <td>Unknown</td>\n",
       "      <td>English</td>\n",
       "      <td>10/1/2017 2:13</td>\n",
       "      <td>10/1/2017 2:13</td>\n",
       "      <td>1050</td>\n",
       "      <td>9645</td>\n",
       "      <td>246</td>\n",
       "      <td>RETWEET</td>\n",
       "      <td>Right</td>\n",
       "      <td>0</td>\n",
       "      <td>1</td>\n",
       "      <td>RightTroll</td>\n",
       "    </tr>\n",
       "  </tbody>\n",
       "</table>\n",
       "</div>"
      ],
      "text/plain": [
       "   external_author_id  author  \\\n",
       "0        9.060000e+17  10_GOP   \n",
       "1        9.060000e+17  10_GOP   \n",
       "2        9.060000e+17  10_GOP   \n",
       "3        9.060000e+17  10_GOP   \n",
       "4        9.060000e+17  10_GOP   \n",
       "\n",
       "                                             content   region language  \\\n",
       "0  \"We have a sitting Democrat US Senator on tria...  Unknown  English   \n",
       "1  Marshawn Lynch arrives to game in anti-Trump s...  Unknown  English   \n",
       "2  Daughter of fallen Navy Sailor delivers powerf...  Unknown  English   \n",
       "3  JUST IN: President Trump dedicates Presidents ...  Unknown  English   \n",
       "4  19,000 RESPECTING our National Anthem! #StandF...  Unknown  English   \n",
       "\n",
       "      publish_date   harvested_date  following  followers  updates post_type  \\\n",
       "0  10/1/2017 19:58  10/1/2017 19:59       1052       9636      253       NaN   \n",
       "1  10/1/2017 22:43  10/1/2017 22:43       1054       9637      254       NaN   \n",
       "2  10/1/2017 22:50  10/1/2017 22:51       1054       9637      255   RETWEET   \n",
       "3  10/1/2017 23:52  10/1/2017 23:52       1062       9642      256       NaN   \n",
       "4   10/1/2017 2:13   10/1/2017 2:13       1050       9645      246   RETWEET   \n",
       "\n",
       "  account_type  new_june_2018  retweet account_category  \n",
       "0        Right              0        0       RightTroll  \n",
       "1        Right              0        0       RightTroll  \n",
       "2        Right              0        1       RightTroll  \n",
       "3        Right              0        0       RightTroll  \n",
       "4        Right              0        1       RightTroll  "
      ]
     },
     "execution_count": 7,
     "metadata": {},
     "output_type": "execute_result"
    }
   ],
   "source": [
    "df.head()"
   ]
  },
  {
   "cell_type": "code",
   "execution_count": 8,
   "metadata": {},
   "outputs": [
    {
     "data": {
      "text/html": [
       "<div>\n",
       "<style scoped>\n",
       "    .dataframe tbody tr th:only-of-type {\n",
       "        vertical-align: middle;\n",
       "    }\n",
       "\n",
       "    .dataframe tbody tr th {\n",
       "        vertical-align: top;\n",
       "    }\n",
       "\n",
       "    .dataframe thead th {\n",
       "        text-align: right;\n",
       "    }\n",
       "</style>\n",
       "<table border=\"1\" class=\"dataframe\">\n",
       "  <thead>\n",
       "    <tr style=\"text-align: right;\">\n",
       "      <th></th>\n",
       "      <th>external_author_id</th>\n",
       "      <th>author</th>\n",
       "      <th>content</th>\n",
       "      <th>region</th>\n",
       "      <th>language</th>\n",
       "      <th>publish_date</th>\n",
       "      <th>harvested_date</th>\n",
       "      <th>following</th>\n",
       "      <th>followers</th>\n",
       "      <th>updates</th>\n",
       "      <th>post_type</th>\n",
       "      <th>account_type</th>\n",
       "      <th>new_june_2018</th>\n",
       "      <th>retweet</th>\n",
       "      <th>account_category</th>\n",
       "    </tr>\n",
       "  </thead>\n",
       "  <tbody>\n",
       "    <tr>\n",
       "      <th>3361818</th>\n",
       "      <td>3.093874e+09</td>\n",
       "      <td>_YOUR_LIFESTYLE</td>\n",
       "      <td>Санкционный пинг-понг http://t.co/Jz06cndR8q</td>\n",
       "      <td>Unknown</td>\n",
       "      <td>Uzbek</td>\n",
       "      <td>9/7/2015 1:31</td>\n",
       "      <td>9/7/2015 1:31</td>\n",
       "      <td>60</td>\n",
       "      <td>4</td>\n",
       "      <td>412</td>\n",
       "      <td>NaN</td>\n",
       "      <td>Russian</td>\n",
       "      <td>0</td>\n",
       "      <td>0</td>\n",
       "      <td>NonEnglish</td>\n",
       "    </tr>\n",
       "    <tr>\n",
       "      <th>3361819</th>\n",
       "      <td>3.093874e+09</td>\n",
       "      <td>_YOUR_LIFESTYLE</td>\n",
       "      <td>Горизонтальный кальян NanoSmoke http://t.co/rL...</td>\n",
       "      <td>Unknown</td>\n",
       "      <td>Russian</td>\n",
       "      <td>9/8/2015 14:49</td>\n",
       "      <td>9/8/2015 14:49</td>\n",
       "      <td>60</td>\n",
       "      <td>4</td>\n",
       "      <td>416</td>\n",
       "      <td>NaN</td>\n",
       "      <td>Russian</td>\n",
       "      <td>0</td>\n",
       "      <td>0</td>\n",
       "      <td>NonEnglish</td>\n",
       "    </tr>\n",
       "    <tr>\n",
       "      <th>3361820</th>\n",
       "      <td>3.093874e+09</td>\n",
       "      <td>_YOUR_LIFESTYLE</td>\n",
       "      <td>Фотограф Kai-Hendrik Schroeder http://t.co/q0x...</td>\n",
       "      <td>Unknown</td>\n",
       "      <td>Russian</td>\n",
       "      <td>9/9/2015 18:52</td>\n",
       "      <td>9/9/2015 18:52</td>\n",
       "      <td>60</td>\n",
       "      <td>4</td>\n",
       "      <td>418</td>\n",
       "      <td>NaN</td>\n",
       "      <td>Russian</td>\n",
       "      <td>0</td>\n",
       "      <td>0</td>\n",
       "      <td>NonEnglish</td>\n",
       "    </tr>\n",
       "    <tr>\n",
       "      <th>3361821</th>\n",
       "      <td>3.093874e+09</td>\n",
       "      <td>_YOUR_LIFESTYLE</td>\n",
       "      <td>К чему стремится компания Netflix (США) http:/...</td>\n",
       "      <td>Unknown</td>\n",
       "      <td>Russian</td>\n",
       "      <td>9/9/2015 22:26</td>\n",
       "      <td>9/9/2015 22:27</td>\n",
       "      <td>60</td>\n",
       "      <td>4</td>\n",
       "      <td>419</td>\n",
       "      <td>NaN</td>\n",
       "      <td>Russian</td>\n",
       "      <td>0</td>\n",
       "      <td>0</td>\n",
       "      <td>NonEnglish</td>\n",
       "    </tr>\n",
       "    <tr>\n",
       "      <th>3361822</th>\n",
       "      <td>3.093874e+09</td>\n",
       "      <td>_YOUR_LIFESTYLE</td>\n",
       "      <td>В Петербурге появилось вегетарианское кафе в к...</td>\n",
       "      <td>Unknown</td>\n",
       "      <td>Russian</td>\n",
       "      <td>9/9/2015 8:17</td>\n",
       "      <td>9/9/2015 8:17</td>\n",
       "      <td>60</td>\n",
       "      <td>4</td>\n",
       "      <td>417</td>\n",
       "      <td>NaN</td>\n",
       "      <td>Russian</td>\n",
       "      <td>0</td>\n",
       "      <td>0</td>\n",
       "      <td>NonEnglish</td>\n",
       "    </tr>\n",
       "  </tbody>\n",
       "</table>\n",
       "</div>"
      ],
      "text/plain": [
       "         external_author_id           author  \\\n",
       "3361818        3.093874e+09  _YOUR_LIFESTYLE   \n",
       "3361819        3.093874e+09  _YOUR_LIFESTYLE   \n",
       "3361820        3.093874e+09  _YOUR_LIFESTYLE   \n",
       "3361821        3.093874e+09  _YOUR_LIFESTYLE   \n",
       "3361822        3.093874e+09  _YOUR_LIFESTYLE   \n",
       "\n",
       "                                                   content   region language  \\\n",
       "3361818       Санкционный пинг-понг http://t.co/Jz06cndR8q  Unknown    Uzbek   \n",
       "3361819  Горизонтальный кальян NanoSmoke http://t.co/rL...  Unknown  Russian   \n",
       "3361820  Фотограф Kai-Hendrik Schroeder http://t.co/q0x...  Unknown  Russian   \n",
       "3361821  К чему стремится компания Netflix (США) http:/...  Unknown  Russian   \n",
       "3361822  В Петербурге появилось вегетарианское кафе в к...  Unknown  Russian   \n",
       "\n",
       "           publish_date  harvested_date  following  followers  updates  \\\n",
       "3361818   9/7/2015 1:31   9/7/2015 1:31         60          4      412   \n",
       "3361819  9/8/2015 14:49  9/8/2015 14:49         60          4      416   \n",
       "3361820  9/9/2015 18:52  9/9/2015 18:52         60          4      418   \n",
       "3361821  9/9/2015 22:26  9/9/2015 22:27         60          4      419   \n",
       "3361822   9/9/2015 8:17   9/9/2015 8:17         60          4      417   \n",
       "\n",
       "        post_type account_type  new_june_2018  retweet account_category  \n",
       "3361818       NaN      Russian              0        0       NonEnglish  \n",
       "3361819       NaN      Russian              0        0       NonEnglish  \n",
       "3361820       NaN      Russian              0        0       NonEnglish  \n",
       "3361821       NaN      Russian              0        0       NonEnglish  \n",
       "3361822       NaN      Russian              0        0       NonEnglish  "
      ]
     },
     "execution_count": 8,
     "metadata": {},
     "output_type": "execute_result"
    }
   ],
   "source": [
    "df.tail()"
   ]
  },
  {
   "cell_type": "code",
   "execution_count": 9,
   "metadata": {},
   "outputs": [],
   "source": [
    "df_copy=df.copy()"
   ]
  },
  {
   "cell_type": "code",
   "execution_count": 10,
   "metadata": {},
   "outputs": [
    {
     "data": {
      "text/plain": [
       "(3361823, 15)"
      ]
     },
     "execution_count": 10,
     "metadata": {},
     "output_type": "execute_result"
    }
   ],
   "source": [
    "df_copy.shape"
   ]
  },
  {
   "cell_type": "code",
   "execution_count": 11,
   "metadata": {},
   "outputs": [
    {
     "name": "stdout",
     "output_type": "stream",
     "text": [
      "<class 'pandas.core.frame.DataFrame'>\n",
      "RangeIndex: 3361823 entries, 0 to 3361822\n",
      "Data columns (total 15 columns):\n",
      " #   Column              Dtype  \n",
      "---  ------              -----  \n",
      " 0   external_author_id  float64\n",
      " 1   author              object \n",
      " 2   content             object \n",
      " 3   region              object \n",
      " 4   language            object \n",
      " 5   publish_date        object \n",
      " 6   harvested_date      object \n",
      " 7   following           int64  \n",
      " 8   followers           int64  \n",
      " 9   updates             int64  \n",
      " 10  post_type           object \n",
      " 11  account_type        object \n",
      " 12  new_june_2018       int64  \n",
      " 13  retweet             int64  \n",
      " 14  account_category    object \n",
      "dtypes: float64(1), int64(5), object(9)\n",
      "memory usage: 384.7+ MB\n"
     ]
    }
   ],
   "source": [
    "df.info()"
   ]
  },
  {
   "cell_type": "code",
   "execution_count": 12,
   "metadata": {},
   "outputs": [
    {
     "data": {
      "text/html": [
       "<div>\n",
       "<style scoped>\n",
       "    .dataframe tbody tr th:only-of-type {\n",
       "        vertical-align: middle;\n",
       "    }\n",
       "\n",
       "    .dataframe tbody tr th {\n",
       "        vertical-align: top;\n",
       "    }\n",
       "\n",
       "    .dataframe thead th {\n",
       "        text-align: right;\n",
       "    }\n",
       "</style>\n",
       "<table border=\"1\" class=\"dataframe\">\n",
       "  <thead>\n",
       "    <tr style=\"text-align: right;\">\n",
       "      <th></th>\n",
       "      <th>count</th>\n",
       "      <th>mean</th>\n",
       "      <th>std</th>\n",
       "      <th>min</th>\n",
       "      <th>25%</th>\n",
       "      <th>50%</th>\n",
       "      <th>75%</th>\n",
       "      <th>max</th>\n",
       "    </tr>\n",
       "  </thead>\n",
       "  <tbody>\n",
       "    <tr>\n",
       "      <th>external_author_id</th>\n",
       "      <td>3361819.0</td>\n",
       "      <td>1.229563e+17</td>\n",
       "      <td>2.969097e+17</td>\n",
       "      <td>34976398.0</td>\n",
       "      <td>1.768260e+09</td>\n",
       "      <td>2.575047e+09</td>\n",
       "      <td>3.197151e+09</td>\n",
       "      <td>9.812510e+17</td>\n",
       "    </tr>\n",
       "    <tr>\n",
       "      <th>following</th>\n",
       "      <td>3361823.0</td>\n",
       "      <td>3.324138e+03</td>\n",
       "      <td>5.440480e+03</td>\n",
       "      <td>-1.0</td>\n",
       "      <td>3.580000e+02</td>\n",
       "      <td>1.473000e+03</td>\n",
       "      <td>4.493000e+03</td>\n",
       "      <td>7.621000e+04</td>\n",
       "    </tr>\n",
       "    <tr>\n",
       "      <th>followers</th>\n",
       "      <td>3361823.0</td>\n",
       "      <td>6.996035e+03</td>\n",
       "      <td>1.466552e+04</td>\n",
       "      <td>-1.0</td>\n",
       "      <td>3.350000e+02</td>\n",
       "      <td>1.211000e+03</td>\n",
       "      <td>8.214000e+03</td>\n",
       "      <td>2.512760e+05</td>\n",
       "    </tr>\n",
       "    <tr>\n",
       "      <th>updates</th>\n",
       "      <td>3361823.0</td>\n",
       "      <td>1.016161e+04</td>\n",
       "      <td>1.707083e+04</td>\n",
       "      <td>-1.0</td>\n",
       "      <td>1.756000e+03</td>\n",
       "      <td>4.165000e+03</td>\n",
       "      <td>1.174800e+04</td>\n",
       "      <td>1.661130e+05</td>\n",
       "    </tr>\n",
       "    <tr>\n",
       "      <th>new_june_2018</th>\n",
       "      <td>3361823.0</td>\n",
       "      <td>1.997294e-01</td>\n",
       "      <td>3.997970e-01</td>\n",
       "      <td>0.0</td>\n",
       "      <td>0.000000e+00</td>\n",
       "      <td>0.000000e+00</td>\n",
       "      <td>0.000000e+00</td>\n",
       "      <td>1.000000e+00</td>\n",
       "    </tr>\n",
       "    <tr>\n",
       "      <th>retweet</th>\n",
       "      <td>3361823.0</td>\n",
       "      <td>4.595893e-01</td>\n",
       "      <td>4.983644e-01</td>\n",
       "      <td>0.0</td>\n",
       "      <td>0.000000e+00</td>\n",
       "      <td>0.000000e+00</td>\n",
       "      <td>1.000000e+00</td>\n",
       "      <td>1.000000e+00</td>\n",
       "    </tr>\n",
       "  </tbody>\n",
       "</table>\n",
       "</div>"
      ],
      "text/plain": [
       "                        count          mean           std         min  \\\n",
       "external_author_id  3361819.0  1.229563e+17  2.969097e+17  34976398.0   \n",
       "following           3361823.0  3.324138e+03  5.440480e+03        -1.0   \n",
       "followers           3361823.0  6.996035e+03  1.466552e+04        -1.0   \n",
       "updates             3361823.0  1.016161e+04  1.707083e+04        -1.0   \n",
       "new_june_2018       3361823.0  1.997294e-01  3.997970e-01         0.0   \n",
       "retweet             3361823.0  4.595893e-01  4.983644e-01         0.0   \n",
       "\n",
       "                             25%           50%           75%           max  \n",
       "external_author_id  1.768260e+09  2.575047e+09  3.197151e+09  9.812510e+17  \n",
       "following           3.580000e+02  1.473000e+03  4.493000e+03  7.621000e+04  \n",
       "followers           3.350000e+02  1.211000e+03  8.214000e+03  2.512760e+05  \n",
       "updates             1.756000e+03  4.165000e+03  1.174800e+04  1.661130e+05  \n",
       "new_june_2018       0.000000e+00  0.000000e+00  0.000000e+00  1.000000e+00  \n",
       "retweet             0.000000e+00  0.000000e+00  1.000000e+00  1.000000e+00  "
      ]
     },
     "execution_count": 12,
     "metadata": {},
     "output_type": "execute_result"
    }
   ],
   "source": [
    "df.describe().T"
   ]
  },
  {
   "cell_type": "code",
   "execution_count": 13,
   "metadata": {},
   "outputs": [
    {
     "data": {
      "text/plain": [
       "external_author_id          4\n",
       "author                      0\n",
       "content                     2\n",
       "region                   9680\n",
       "language                    0\n",
       "publish_date                0\n",
       "harvested_date              0\n",
       "following                   0\n",
       "followers                   0\n",
       "updates                     0\n",
       "post_type             1816765\n",
       "account_type              665\n",
       "new_june_2018               0\n",
       "retweet                     0\n",
       "account_category            0\n",
       "dtype: int64"
      ]
     },
     "execution_count": 13,
     "metadata": {},
     "output_type": "execute_result"
    }
   ],
   "source": [
    "df.isnull().sum()"
   ]
  },
  {
   "cell_type": "code",
   "execution_count": 14,
   "metadata": {},
   "outputs": [
    {
     "data": {
      "text/plain": [
       "0.05705105592859028"
      ]
     },
     "execution_count": 14,
     "metadata": {},
     "output_type": "execute_result"
    }
   ],
   "source": [
    "138604/2429473"
   ]
  },
  {
   "cell_type": "code",
   "execution_count": 15,
   "metadata": {},
   "outputs": [
    {
     "data": {
      "text/plain": [
       "8.920000e+17    65401\n",
       "2.587844e+09    57780\n",
       "2.882332e+09    46326\n",
       "3.272641e+09    45985\n",
       "8.980000e+17    45108\n",
       "                ...  \n",
       "3.304124e+09        1\n",
       "2.501944e+09        1\n",
       "2.541424e+09        1\n",
       "1.318125e+08        1\n",
       "3.072889e+09        1\n",
       "Name: external_author_id, Length: 2489, dtype: int64"
      ]
     },
     "execution_count": 15,
     "metadata": {},
     "output_type": "execute_result"
    }
   ],
   "source": [
    "df['external_author_id'].value_counts()"
   ]
  },
  {
   "cell_type": "code",
   "execution_count": 16,
   "metadata": {},
   "outputs": [
    {
     "data": {
      "text/plain": [
       "array(['10_GOP', '1488REASONS', '1D_NICOLE_', ..., '_SOLOMONALBERT_',\n",
       "       '_SUNNY_SONNY_', '_YOUR_LIFESTYLE'], dtype=object)"
      ]
     },
     "execution_count": 16,
     "metadata": {},
     "output_type": "execute_result"
    }
   ],
   "source": [
    "df['author'].unique()"
   ]
  },
  {
   "cell_type": "code",
   "execution_count": 17,
   "metadata": {},
   "outputs": [
    {
     "data": {
      "text/plain": [
       "EXQUOTE            59652\n",
       "KANSASDAILYNEWS    57780\n",
       "JENN_ABRAMS        45722\n",
       "SCREAMYMONKEY      44041\n",
       "WORLDNEWSPOLI      36974\n",
       "                   ...  \n",
       "KOTZZZLOVRED           1\n",
       "RAUL_STON              1\n",
       "MECHTATELI_            1\n",
       "EVERYDAYHOKKU          1\n",
       "EALADDINS              1\n",
       "Name: author, Length: 2848, dtype: int64"
      ]
     },
     "execution_count": 17,
     "metadata": {},
     "output_type": "execute_result"
    }
   ],
   "source": [
    "df['author'].value_counts()"
   ]
  },
  {
   "cell_type": "code",
   "execution_count": 18,
   "metadata": {},
   "outputs": [
    {
     "data": {
      "text/plain": [
       "United States                2378105\n",
       "Unknown                       615677\n",
       "Azerbaijan                    106895\n",
       "United Arab Emirates           80888\n",
       "Russian Federation             39521\n",
       "Belarus                        30204\n",
       "Germany                        29354\n",
       "United Kingdom                 19042\n",
       "Italy                          16466\n",
       "Iraq                           11230\n",
       "Ukraine                         6272\n",
       "Afghanistan                     5929\n",
       "Malaysia                        4933\n",
       "Israel                          3858\n",
       "France                           989\n",
       "Canada                           931\n",
       "Iran, Islamic Republic of        554\n",
       "Spain                            524\n",
       "Egypt                            259\n",
       "Japan                            119\n",
       "Greece                            91\n",
       "Mexico                            82\n",
       "Saudi Arabia                      62\n",
       "Sweden                            52\n",
       "Samoa                             32\n",
       "India                             22\n",
       "Finland                           20\n",
       "Turkey                             9\n",
       "Latvia                             7\n",
       "Czech Republic                     7\n",
       "Hong Kong                          3\n",
       "Serbia                             2\n",
       "Switzerland                        1\n",
       "Estonia                            1\n",
       "Denmark                            1\n",
       "Austria                            1\n",
       "Name: region, dtype: int64"
      ]
     },
     "execution_count": 18,
     "metadata": {},
     "output_type": "execute_result"
    }
   ],
   "source": [
    "df['region'].value_counts()"
   ]
  },
  {
   "cell_type": "code",
   "execution_count": 19,
   "metadata": {},
   "outputs": [
    {
     "data": {
      "text/plain": [
       "English                2429473\n",
       "Russian                 676190\n",
       "German                  102745\n",
       "Ukrainian                43265\n",
       "Italian                  21647\n",
       "LANGUAGE UNDEFINED       14902\n",
       "Uzbek                    10451\n",
       "Serbian                  10355\n",
       "Bulgarian                10141\n",
       "Arabic                    7867\n",
       "Macedonian                5706\n",
       "French                    5042\n",
       "Spanish                   3601\n",
       "Norwegian                 2585\n",
       "Romanian                  1838\n",
       "Farsi (Persian)           1823\n",
       "Dutch                     1331\n",
       "Swedish                   1217\n",
       "Vietnamese                1173\n",
       "Estonian                   863\n",
       "Japanese                   842\n",
       "Catalan                    678\n",
       "Albanian                   666\n",
       "Finnish                    638\n",
       "Croatian                   621\n",
       "Icelandic                  568\n",
       "Pushto                     552\n",
       "Portuguese                 521\n",
       "Turkish                    503\n",
       "Lithuanian                 480\n",
       "Polish                     435\n",
       "Somali                     321\n",
       "Slovak                     285\n",
       "Malay                      271\n",
       "Tagalog (Filipino)         267\n",
       "Kurdish                    264\n",
       "Latvian                    249\n",
       "Indonesian                 218\n",
       "Hungarian                  214\n",
       "Czech                      213\n",
       "Greek                      189\n",
       "Korean                     110\n",
       "Danish                     106\n",
       "Hindi                       93\n",
       "Hebrew                      74\n",
       "Urdu                        66\n",
       "Slovenian                   66\n",
       "Thai                        42\n",
       "Simplified Chinese          21\n",
       "Traditional Chinese         11\n",
       "Gujarati                     9\n",
       "Tamil                        9\n",
       "Bengali                      2\n",
       "Telugu                       2\n",
       "Kannada                      1\n",
       "Malayalam                    1\n",
       "Name: language, dtype: int64"
      ]
     },
     "execution_count": 19,
     "metadata": {},
     "output_type": "execute_result"
    }
   ],
   "source": [
    "df['language'].value_counts()"
   ]
  },
  {
   "cell_type": "code",
   "execution_count": 20,
   "metadata": {},
   "outputs": [
    {
     "data": {
      "text/plain": [
       "0        62763\n",
       "2        61486\n",
       "3        38501\n",
       "5        21303\n",
       "68       12560\n",
       "         ...  \n",
       "38006        1\n",
       "21614        1\n",
       "62589        1\n",
       "18377        1\n",
       "30473        1\n",
       "Name: following, Length: 28224, dtype: int64"
      ]
     },
     "execution_count": 20,
     "metadata": {},
     "output_type": "execute_result"
    }
   ],
   "source": [
    "df['following'].value_counts()"
   ]
  },
  {
   "cell_type": "code",
   "execution_count": 21,
   "metadata": {},
   "outputs": [
    {
     "data": {
      "text/plain": [
       "0         15182\n",
       "2         11921\n",
       "1         10853\n",
       "4          7676\n",
       "5          7340\n",
       "          ...  \n",
       "52760         1\n",
       "34321         1\n",
       "248387        1\n",
       "203353        1\n",
       "108456        1\n",
       "Name: followers, Length: 66363, dtype: int64"
      ]
     },
     "execution_count": 21,
     "metadata": {},
     "output_type": "execute_result"
    }
   ],
   "source": [
    "df['followers'].value_counts()"
   ]
  },
  {
   "cell_type": "code",
   "execution_count": 22,
   "metadata": {},
   "outputs": [
    {
     "data": {
      "text/plain": [
       "RETWEET        1500596\n",
       "QUOTE_TWEET      44462\n",
       "Name: post_type, dtype: int64"
      ]
     },
     "execution_count": 22,
     "metadata": {},
     "output_type": "execute_result"
    }
   ],
   "source": [
    "df['post_type'].value_counts()"
   ]
  },
  {
   "cell_type": "code",
   "execution_count": 23,
   "metadata": {},
   "outputs": [
    {
     "data": {
      "text/plain": [
       "8/16/2017 1:29      248\n",
       "8/16/2017 1:31      200\n",
       "8/15/2017 17:09     167\n",
       "8/16/2017 1:30      160\n",
       "8/12/2017 19:11     158\n",
       "                   ... \n",
       "1/18/2016 5:44        1\n",
       "3/8/2016 11:01        1\n",
       "10/19/2015 10:03      1\n",
       "6/19/2017 15:09       1\n",
       "8/31/2016 19:45       1\n",
       "Name: publish_date, Length: 896684, dtype: int64"
      ]
     },
     "execution_count": 23,
     "metadata": {},
     "output_type": "execute_result"
    }
   ],
   "source": [
    "df['publish_date'].value_counts()"
   ]
  },
  {
   "cell_type": "code",
   "execution_count": 24,
   "metadata": {},
   "outputs": [
    {
     "data": {
      "text/plain": [
       "Right         845080\n",
       "Russian       781358\n",
       "left          528063\n",
       "local         499895\n",
       "Hashtager     272335\n",
       "news          139153\n",
       "Commercial    123787\n",
       "German        108538\n",
       "?              20550\n",
       "Italian        18871\n",
       "Koch           13851\n",
       "Arabic          6251\n",
       "Spanish         1355\n",
       "French          1164\n",
       "right            468\n",
       "ZAPOROSHIA       175\n",
       "Ebola            140\n",
       "Portuguese       118\n",
       "Ukranian           4\n",
       "Uzbek              2\n",
       "Name: account_type, dtype: int64"
      ]
     },
     "execution_count": 24,
     "metadata": {},
     "output_type": "execute_result"
    }
   ],
   "source": [
    "df['account_type'].value_counts()"
   ]
  },
  {
   "cell_type": "code",
   "execution_count": 25,
   "metadata": {},
   "outputs": [
    {
     "data": {
      "text/plain": [
       "0    2690368\n",
       "1     671455\n",
       "Name: new_june_2018, dtype: int64"
      ]
     },
     "execution_count": 25,
     "metadata": {},
     "output_type": "execute_result"
    }
   ],
   "source": [
    "df['new_june_2018'].value_counts()"
   ]
  },
  {
   "cell_type": "code",
   "execution_count": 26,
   "metadata": {},
   "outputs": [
    {
     "data": {
      "text/plain": [
       "NonEnglish      917661\n",
       "RightTroll      845548\n",
       "NewsFeed        639048\n",
       "LeftTroll       528063\n",
       "HashtagGamer    272335\n",
       "Commercial      123787\n",
       "Unknown          21215\n",
       "Fearmonger       14166\n",
       "Name: account_category, dtype: int64"
      ]
     },
     "execution_count": 26,
     "metadata": {},
     "output_type": "execute_result"
    }
   ],
   "source": [
    "df['account_category'].value_counts()"
   ]
  },
  {
   "cell_type": "markdown",
   "metadata": {},
   "source": [
    "# JOINING THE NEGATIVE TWEET DATASET"
   ]
  },
  {
   "cell_type": "code",
   "execution_count": 27,
   "metadata": {},
   "outputs": [],
   "source": [
    "df_neg=pd.read_csv('tweets-2016-10000-textonly.txt',delimiter='\\t',header=None)"
   ]
  },
  {
   "cell_type": "code",
   "execution_count": 28,
   "metadata": {},
   "outputs": [
    {
     "data": {
      "text/html": [
       "<div>\n",
       "<style scoped>\n",
       "    .dataframe tbody tr th:only-of-type {\n",
       "        vertical-align: middle;\n",
       "    }\n",
       "\n",
       "    .dataframe tbody tr th {\n",
       "        vertical-align: top;\n",
       "    }\n",
       "\n",
       "    .dataframe thead th {\n",
       "        text-align: right;\n",
       "    }\n",
       "</style>\n",
       "<table border=\"1\" class=\"dataframe\">\n",
       "  <thead>\n",
       "    <tr style=\"text-align: right;\">\n",
       "      <th></th>\n",
       "      <th>0</th>\n",
       "    </tr>\n",
       "  </thead>\n",
       "  <tbody>\n",
       "    <tr>\n",
       "      <th>0</th>\n",
       "      <td>Leaked records show Trump may have avoided tax...</td>\n",
       "    </tr>\n",
       "    <tr>\n",
       "      <th>1</th>\n",
       "      <td>Donald Trump vs. Hillary Clinton Debate Cold O...</td>\n",
       "    </tr>\n",
       "    <tr>\n",
       "      <th>2</th>\n",
       "      <td>@realDonaldTrump The need is to blow off the \"...</td>\n",
       "    </tr>\n",
       "    <tr>\n",
       "      <th>3</th>\n",
       "      <td>US-Medien: Trump zahlte womöglich jahrelang ke...</td>\n",
       "    </tr>\n",
       "    <tr>\n",
       "      <th>4</th>\n",
       "      <td>#amjoy #cnn #msnbc #Trump has 2 words for #dep...</td>\n",
       "    </tr>\n",
       "    <tr>\n",
       "      <th>...</th>\n",
       "      <td>...</td>\n",
       "    </tr>\n",
       "    <tr>\n",
       "      <th>7574</th>\n",
       "      <td>Since 1986-2016(30Years) =20Years Republican A...</td>\n",
       "    </tr>\n",
       "    <tr>\n",
       "      <th>7575</th>\n",
       "      <td>Onlooker repeatedly yells ‘Bill Clinton is a r...</td>\n",
       "    </tr>\n",
       "    <tr>\n",
       "      <th>7576</th>\n",
       "      <td>I'm having a very hard time right now in sever...</td>\n",
       "    </tr>\n",
       "    <tr>\n",
       "      <th>7577</th>\n",
       "      <td>Between #trump, Giuliani, Ailes they have 10 d...</td>\n",
       "    </tr>\n",
       "    <tr>\n",
       "      <th>7578</th>\n",
       "      <td>Larry David brings Bernie Sanders back to ‘SNL...</td>\n",
       "    </tr>\n",
       "  </tbody>\n",
       "</table>\n",
       "<p>7579 rows × 1 columns</p>\n",
       "</div>"
      ],
      "text/plain": [
       "                                                      0\n",
       "0     Leaked records show Trump may have avoided tax...\n",
       "1     Donald Trump vs. Hillary Clinton Debate Cold O...\n",
       "2     @realDonaldTrump The need is to blow off the \"...\n",
       "3     US-Medien: Trump zahlte womöglich jahrelang ke...\n",
       "4     #amjoy #cnn #msnbc #Trump has 2 words for #dep...\n",
       "...                                                 ...\n",
       "7574  Since 1986-2016(30Years) =20Years Republican A...\n",
       "7575  Onlooker repeatedly yells ‘Bill Clinton is a r...\n",
       "7576  I'm having a very hard time right now in sever...\n",
       "7577  Between #trump, Giuliani, Ailes they have 10 d...\n",
       "7578  Larry David brings Bernie Sanders back to ‘SNL...\n",
       "\n",
       "[7579 rows x 1 columns]"
      ]
     },
     "execution_count": 28,
     "metadata": {},
     "output_type": "execute_result"
    }
   ],
   "source": [
    "df_neg"
   ]
  },
  {
   "cell_type": "code",
   "execution_count": 29,
   "metadata": {},
   "outputs": [],
   "source": [
    "df_neg.rename(columns={0:'content'},inplace=True)"
   ]
  },
  {
   "cell_type": "code",
   "execution_count": 30,
   "metadata": {},
   "outputs": [
    {
     "data": {
      "text/html": [
       "<div>\n",
       "<style scoped>\n",
       "    .dataframe tbody tr th:only-of-type {\n",
       "        vertical-align: middle;\n",
       "    }\n",
       "\n",
       "    .dataframe tbody tr th {\n",
       "        vertical-align: top;\n",
       "    }\n",
       "\n",
       "    .dataframe thead th {\n",
       "        text-align: right;\n",
       "    }\n",
       "</style>\n",
       "<table border=\"1\" class=\"dataframe\">\n",
       "  <thead>\n",
       "    <tr style=\"text-align: right;\">\n",
       "      <th></th>\n",
       "      <th>external_author_id</th>\n",
       "      <th>author</th>\n",
       "      <th>content</th>\n",
       "      <th>region</th>\n",
       "      <th>language</th>\n",
       "      <th>publish_date</th>\n",
       "      <th>harvested_date</th>\n",
       "      <th>following</th>\n",
       "      <th>followers</th>\n",
       "      <th>updates</th>\n",
       "      <th>post_type</th>\n",
       "      <th>account_type</th>\n",
       "      <th>new_june_2018</th>\n",
       "      <th>retweet</th>\n",
       "      <th>account_category</th>\n",
       "    </tr>\n",
       "  </thead>\n",
       "  <tbody>\n",
       "    <tr>\n",
       "      <th>0</th>\n",
       "      <td>9.060000e+17</td>\n",
       "      <td>10_GOP</td>\n",
       "      <td>\"We have a sitting Democrat US Senator on tria...</td>\n",
       "      <td>Unknown</td>\n",
       "      <td>English</td>\n",
       "      <td>10/1/2017 19:58</td>\n",
       "      <td>10/1/2017 19:59</td>\n",
       "      <td>1052</td>\n",
       "      <td>9636</td>\n",
       "      <td>253</td>\n",
       "      <td>NaN</td>\n",
       "      <td>Right</td>\n",
       "      <td>0</td>\n",
       "      <td>0</td>\n",
       "      <td>RightTroll</td>\n",
       "    </tr>\n",
       "    <tr>\n",
       "      <th>1</th>\n",
       "      <td>9.060000e+17</td>\n",
       "      <td>10_GOP</td>\n",
       "      <td>Marshawn Lynch arrives to game in anti-Trump s...</td>\n",
       "      <td>Unknown</td>\n",
       "      <td>English</td>\n",
       "      <td>10/1/2017 22:43</td>\n",
       "      <td>10/1/2017 22:43</td>\n",
       "      <td>1054</td>\n",
       "      <td>9637</td>\n",
       "      <td>254</td>\n",
       "      <td>NaN</td>\n",
       "      <td>Right</td>\n",
       "      <td>0</td>\n",
       "      <td>0</td>\n",
       "      <td>RightTroll</td>\n",
       "    </tr>\n",
       "    <tr>\n",
       "      <th>2</th>\n",
       "      <td>9.060000e+17</td>\n",
       "      <td>10_GOP</td>\n",
       "      <td>Daughter of fallen Navy Sailor delivers powerf...</td>\n",
       "      <td>Unknown</td>\n",
       "      <td>English</td>\n",
       "      <td>10/1/2017 22:50</td>\n",
       "      <td>10/1/2017 22:51</td>\n",
       "      <td>1054</td>\n",
       "      <td>9637</td>\n",
       "      <td>255</td>\n",
       "      <td>RETWEET</td>\n",
       "      <td>Right</td>\n",
       "      <td>0</td>\n",
       "      <td>1</td>\n",
       "      <td>RightTroll</td>\n",
       "    </tr>\n",
       "    <tr>\n",
       "      <th>3</th>\n",
       "      <td>9.060000e+17</td>\n",
       "      <td>10_GOP</td>\n",
       "      <td>JUST IN: President Trump dedicates Presidents ...</td>\n",
       "      <td>Unknown</td>\n",
       "      <td>English</td>\n",
       "      <td>10/1/2017 23:52</td>\n",
       "      <td>10/1/2017 23:52</td>\n",
       "      <td>1062</td>\n",
       "      <td>9642</td>\n",
       "      <td>256</td>\n",
       "      <td>NaN</td>\n",
       "      <td>Right</td>\n",
       "      <td>0</td>\n",
       "      <td>0</td>\n",
       "      <td>RightTroll</td>\n",
       "    </tr>\n",
       "    <tr>\n",
       "      <th>4</th>\n",
       "      <td>9.060000e+17</td>\n",
       "      <td>10_GOP</td>\n",
       "      <td>19,000 RESPECTING our National Anthem! #StandF...</td>\n",
       "      <td>Unknown</td>\n",
       "      <td>English</td>\n",
       "      <td>10/1/2017 2:13</td>\n",
       "      <td>10/1/2017 2:13</td>\n",
       "      <td>1050</td>\n",
       "      <td>9645</td>\n",
       "      <td>246</td>\n",
       "      <td>RETWEET</td>\n",
       "      <td>Right</td>\n",
       "      <td>0</td>\n",
       "      <td>1</td>\n",
       "      <td>RightTroll</td>\n",
       "    </tr>\n",
       "  </tbody>\n",
       "</table>\n",
       "</div>"
      ],
      "text/plain": [
       "   external_author_id  author  \\\n",
       "0        9.060000e+17  10_GOP   \n",
       "1        9.060000e+17  10_GOP   \n",
       "2        9.060000e+17  10_GOP   \n",
       "3        9.060000e+17  10_GOP   \n",
       "4        9.060000e+17  10_GOP   \n",
       "\n",
       "                                             content   region language  \\\n",
       "0  \"We have a sitting Democrat US Senator on tria...  Unknown  English   \n",
       "1  Marshawn Lynch arrives to game in anti-Trump s...  Unknown  English   \n",
       "2  Daughter of fallen Navy Sailor delivers powerf...  Unknown  English   \n",
       "3  JUST IN: President Trump dedicates Presidents ...  Unknown  English   \n",
       "4  19,000 RESPECTING our National Anthem! #StandF...  Unknown  English   \n",
       "\n",
       "      publish_date   harvested_date  following  followers  updates post_type  \\\n",
       "0  10/1/2017 19:58  10/1/2017 19:59       1052       9636      253       NaN   \n",
       "1  10/1/2017 22:43  10/1/2017 22:43       1054       9637      254       NaN   \n",
       "2  10/1/2017 22:50  10/1/2017 22:51       1054       9637      255   RETWEET   \n",
       "3  10/1/2017 23:52  10/1/2017 23:52       1062       9642      256       NaN   \n",
       "4   10/1/2017 2:13   10/1/2017 2:13       1050       9645      246   RETWEET   \n",
       "\n",
       "  account_type  new_june_2018  retweet account_category  \n",
       "0        Right              0        0       RightTroll  \n",
       "1        Right              0        0       RightTroll  \n",
       "2        Right              0        1       RightTroll  \n",
       "3        Right              0        0       RightTroll  \n",
       "4        Right              0        1       RightTroll  "
      ]
     },
     "execution_count": 30,
     "metadata": {},
     "output_type": "execute_result"
    }
   ],
   "source": [
    "df.head()"
   ]
  },
  {
   "cell_type": "code",
   "execution_count": 31,
   "metadata": {},
   "outputs": [],
   "source": [
    "df=df_copy"
   ]
  },
  {
   "cell_type": "code",
   "execution_count": 32,
   "metadata": {},
   "outputs": [],
   "source": [
    "df_pos=df[df['language']=='English']"
   ]
  },
  {
   "cell_type": "code",
   "execution_count": 33,
   "metadata": {},
   "outputs": [
    {
     "data": {
      "text/html": [
       "<div>\n",
       "<style scoped>\n",
       "    .dataframe tbody tr th:only-of-type {\n",
       "        vertical-align: middle;\n",
       "    }\n",
       "\n",
       "    .dataframe tbody tr th {\n",
       "        vertical-align: top;\n",
       "    }\n",
       "\n",
       "    .dataframe thead th {\n",
       "        text-align: right;\n",
       "    }\n",
       "</style>\n",
       "<table border=\"1\" class=\"dataframe\">\n",
       "  <thead>\n",
       "    <tr style=\"text-align: right;\">\n",
       "      <th></th>\n",
       "      <th>external_author_id</th>\n",
       "      <th>author</th>\n",
       "      <th>content</th>\n",
       "      <th>region</th>\n",
       "      <th>language</th>\n",
       "      <th>publish_date</th>\n",
       "      <th>harvested_date</th>\n",
       "      <th>following</th>\n",
       "      <th>followers</th>\n",
       "      <th>updates</th>\n",
       "      <th>post_type</th>\n",
       "      <th>account_type</th>\n",
       "      <th>new_june_2018</th>\n",
       "      <th>retweet</th>\n",
       "      <th>account_category</th>\n",
       "    </tr>\n",
       "  </thead>\n",
       "  <tbody>\n",
       "    <tr>\n",
       "      <th>0</th>\n",
       "      <td>9.060000e+17</td>\n",
       "      <td>10_GOP</td>\n",
       "      <td>\"We have a sitting Democrat US Senator on tria...</td>\n",
       "      <td>Unknown</td>\n",
       "      <td>English</td>\n",
       "      <td>10/1/2017 19:58</td>\n",
       "      <td>10/1/2017 19:59</td>\n",
       "      <td>1052</td>\n",
       "      <td>9636</td>\n",
       "      <td>253</td>\n",
       "      <td>NaN</td>\n",
       "      <td>Right</td>\n",
       "      <td>0</td>\n",
       "      <td>0</td>\n",
       "      <td>RightTroll</td>\n",
       "    </tr>\n",
       "    <tr>\n",
       "      <th>1</th>\n",
       "      <td>9.060000e+17</td>\n",
       "      <td>10_GOP</td>\n",
       "      <td>Marshawn Lynch arrives to game in anti-Trump s...</td>\n",
       "      <td>Unknown</td>\n",
       "      <td>English</td>\n",
       "      <td>10/1/2017 22:43</td>\n",
       "      <td>10/1/2017 22:43</td>\n",
       "      <td>1054</td>\n",
       "      <td>9637</td>\n",
       "      <td>254</td>\n",
       "      <td>NaN</td>\n",
       "      <td>Right</td>\n",
       "      <td>0</td>\n",
       "      <td>0</td>\n",
       "      <td>RightTroll</td>\n",
       "    </tr>\n",
       "    <tr>\n",
       "      <th>2</th>\n",
       "      <td>9.060000e+17</td>\n",
       "      <td>10_GOP</td>\n",
       "      <td>Daughter of fallen Navy Sailor delivers powerf...</td>\n",
       "      <td>Unknown</td>\n",
       "      <td>English</td>\n",
       "      <td>10/1/2017 22:50</td>\n",
       "      <td>10/1/2017 22:51</td>\n",
       "      <td>1054</td>\n",
       "      <td>9637</td>\n",
       "      <td>255</td>\n",
       "      <td>RETWEET</td>\n",
       "      <td>Right</td>\n",
       "      <td>0</td>\n",
       "      <td>1</td>\n",
       "      <td>RightTroll</td>\n",
       "    </tr>\n",
       "    <tr>\n",
       "      <th>3</th>\n",
       "      <td>9.060000e+17</td>\n",
       "      <td>10_GOP</td>\n",
       "      <td>JUST IN: President Trump dedicates Presidents ...</td>\n",
       "      <td>Unknown</td>\n",
       "      <td>English</td>\n",
       "      <td>10/1/2017 23:52</td>\n",
       "      <td>10/1/2017 23:52</td>\n",
       "      <td>1062</td>\n",
       "      <td>9642</td>\n",
       "      <td>256</td>\n",
       "      <td>NaN</td>\n",
       "      <td>Right</td>\n",
       "      <td>0</td>\n",
       "      <td>0</td>\n",
       "      <td>RightTroll</td>\n",
       "    </tr>\n",
       "    <tr>\n",
       "      <th>4</th>\n",
       "      <td>9.060000e+17</td>\n",
       "      <td>10_GOP</td>\n",
       "      <td>19,000 RESPECTING our National Anthem! #StandF...</td>\n",
       "      <td>Unknown</td>\n",
       "      <td>English</td>\n",
       "      <td>10/1/2017 2:13</td>\n",
       "      <td>10/1/2017 2:13</td>\n",
       "      <td>1050</td>\n",
       "      <td>9645</td>\n",
       "      <td>246</td>\n",
       "      <td>RETWEET</td>\n",
       "      <td>Right</td>\n",
       "      <td>0</td>\n",
       "      <td>1</td>\n",
       "      <td>RightTroll</td>\n",
       "    </tr>\n",
       "  </tbody>\n",
       "</table>\n",
       "</div>"
      ],
      "text/plain": [
       "   external_author_id  author  \\\n",
       "0        9.060000e+17  10_GOP   \n",
       "1        9.060000e+17  10_GOP   \n",
       "2        9.060000e+17  10_GOP   \n",
       "3        9.060000e+17  10_GOP   \n",
       "4        9.060000e+17  10_GOP   \n",
       "\n",
       "                                             content   region language  \\\n",
       "0  \"We have a sitting Democrat US Senator on tria...  Unknown  English   \n",
       "1  Marshawn Lynch arrives to game in anti-Trump s...  Unknown  English   \n",
       "2  Daughter of fallen Navy Sailor delivers powerf...  Unknown  English   \n",
       "3  JUST IN: President Trump dedicates Presidents ...  Unknown  English   \n",
       "4  19,000 RESPECTING our National Anthem! #StandF...  Unknown  English   \n",
       "\n",
       "      publish_date   harvested_date  following  followers  updates post_type  \\\n",
       "0  10/1/2017 19:58  10/1/2017 19:59       1052       9636      253       NaN   \n",
       "1  10/1/2017 22:43  10/1/2017 22:43       1054       9637      254       NaN   \n",
       "2  10/1/2017 22:50  10/1/2017 22:51       1054       9637      255   RETWEET   \n",
       "3  10/1/2017 23:52  10/1/2017 23:52       1062       9642      256       NaN   \n",
       "4   10/1/2017 2:13   10/1/2017 2:13       1050       9645      246   RETWEET   \n",
       "\n",
       "  account_type  new_june_2018  retweet account_category  \n",
       "0        Right              0        0       RightTroll  \n",
       "1        Right              0        0       RightTroll  \n",
       "2        Right              0        1       RightTroll  \n",
       "3        Right              0        0       RightTroll  \n",
       "4        Right              0        1       RightTroll  "
      ]
     },
     "execution_count": 33,
     "metadata": {},
     "output_type": "execute_result"
    }
   ],
   "source": [
    "df_pos.head()"
   ]
  },
  {
   "cell_type": "code",
   "execution_count": 34,
   "metadata": {},
   "outputs": [],
   "source": [
    "df_pos=df_pos.sample(frac=1).reset_index(drop=True)"
   ]
  },
  {
   "cell_type": "code",
   "execution_count": 35,
   "metadata": {},
   "outputs": [],
   "source": [
    "df_pos=df_pos.iloc[0:10002]"
   ]
  },
  {
   "cell_type": "code",
   "execution_count": 36,
   "metadata": {},
   "outputs": [
    {
     "data": {
      "text/plain": [
       "(10002, 15)"
      ]
     },
     "execution_count": 36,
     "metadata": {},
     "output_type": "execute_result"
    }
   ],
   "source": [
    "df_pos.shape"
   ]
  },
  {
   "cell_type": "code",
   "execution_count": 37,
   "metadata": {},
   "outputs": [],
   "source": [
    "df_pos=df_pos['content']"
   ]
  },
  {
   "cell_type": "code",
   "execution_count": 38,
   "metadata": {},
   "outputs": [
    {
     "data": {
      "text/plain": [
       "0    If you leave me a voicemail,  I'm going to ass...\n",
       "1    Trump Plays Political Insider and Outsider to ...\n",
       "2    http://t.co/vtJIZlOrlf R @Rachelllee__ James @...\n",
       "3    #may House Dem Trying To Impeach Trump Based o...\n",
       "4    Share this for those who are too young to reme...\n",
       "Name: content, dtype: object"
      ]
     },
     "execution_count": 38,
     "metadata": {},
     "output_type": "execute_result"
    }
   ],
   "source": [
    "df_pos.head()"
   ]
  },
  {
   "cell_type": "code",
   "execution_count": 39,
   "metadata": {},
   "outputs": [],
   "source": [
    "df_pos=pd.DataFrame(df_pos,columns=['content'])"
   ]
  },
  {
   "cell_type": "code",
   "execution_count": 40,
   "metadata": {},
   "outputs": [],
   "source": [
    "df_pos['label']='1'"
   ]
  },
  {
   "cell_type": "code",
   "execution_count": 41,
   "metadata": {},
   "outputs": [
    {
     "data": {
      "text/html": [
       "<div>\n",
       "<style scoped>\n",
       "    .dataframe tbody tr th:only-of-type {\n",
       "        vertical-align: middle;\n",
       "    }\n",
       "\n",
       "    .dataframe tbody tr th {\n",
       "        vertical-align: top;\n",
       "    }\n",
       "\n",
       "    .dataframe thead th {\n",
       "        text-align: right;\n",
       "    }\n",
       "</style>\n",
       "<table border=\"1\" class=\"dataframe\">\n",
       "  <thead>\n",
       "    <tr style=\"text-align: right;\">\n",
       "      <th></th>\n",
       "      <th>content</th>\n",
       "      <th>label</th>\n",
       "    </tr>\n",
       "  </thead>\n",
       "  <tbody>\n",
       "    <tr>\n",
       "      <th>0</th>\n",
       "      <td>If you leave me a voicemail,  I'm going to ass...</td>\n",
       "      <td>1</td>\n",
       "    </tr>\n",
       "    <tr>\n",
       "      <th>1</th>\n",
       "      <td>Trump Plays Political Insider and Outsider to ...</td>\n",
       "      <td>1</td>\n",
       "    </tr>\n",
       "    <tr>\n",
       "      <th>2</th>\n",
       "      <td>http://t.co/vtJIZlOrlf R @Rachelllee__ James @...</td>\n",
       "      <td>1</td>\n",
       "    </tr>\n",
       "    <tr>\n",
       "      <th>3</th>\n",
       "      <td>#may House Dem Trying To Impeach Trump Based o...</td>\n",
       "      <td>1</td>\n",
       "    </tr>\n",
       "    <tr>\n",
       "      <th>4</th>\n",
       "      <td>Share this for those who are too young to reme...</td>\n",
       "      <td>1</td>\n",
       "    </tr>\n",
       "  </tbody>\n",
       "</table>\n",
       "</div>"
      ],
      "text/plain": [
       "                                             content label\n",
       "0  If you leave me a voicemail,  I'm going to ass...     1\n",
       "1  Trump Plays Political Insider and Outsider to ...     1\n",
       "2  http://t.co/vtJIZlOrlf R @Rachelllee__ James @...     1\n",
       "3  #may House Dem Trying To Impeach Trump Based o...     1\n",
       "4  Share this for those who are too young to reme...     1"
      ]
     },
     "execution_count": 41,
     "metadata": {},
     "output_type": "execute_result"
    }
   ],
   "source": [
    "df_pos.head()"
   ]
  },
  {
   "cell_type": "code",
   "execution_count": 42,
   "metadata": {},
   "outputs": [],
   "source": [
    "df_neg['label']='0'"
   ]
  },
  {
   "cell_type": "code",
   "execution_count": 43,
   "metadata": {},
   "outputs": [
    {
     "data": {
      "text/html": [
       "<div>\n",
       "<style scoped>\n",
       "    .dataframe tbody tr th:only-of-type {\n",
       "        vertical-align: middle;\n",
       "    }\n",
       "\n",
       "    .dataframe tbody tr th {\n",
       "        vertical-align: top;\n",
       "    }\n",
       "\n",
       "    .dataframe thead th {\n",
       "        text-align: right;\n",
       "    }\n",
       "</style>\n",
       "<table border=\"1\" class=\"dataframe\">\n",
       "  <thead>\n",
       "    <tr style=\"text-align: right;\">\n",
       "      <th></th>\n",
       "      <th>content</th>\n",
       "      <th>label</th>\n",
       "    </tr>\n",
       "  </thead>\n",
       "  <tbody>\n",
       "    <tr>\n",
       "      <th>7574</th>\n",
       "      <td>Since 1986-2016(30Years) =20Years Republican A...</td>\n",
       "      <td>0</td>\n",
       "    </tr>\n",
       "    <tr>\n",
       "      <th>7575</th>\n",
       "      <td>Onlooker repeatedly yells ‘Bill Clinton is a r...</td>\n",
       "      <td>0</td>\n",
       "    </tr>\n",
       "    <tr>\n",
       "      <th>7576</th>\n",
       "      <td>I'm having a very hard time right now in sever...</td>\n",
       "      <td>0</td>\n",
       "    </tr>\n",
       "    <tr>\n",
       "      <th>7577</th>\n",
       "      <td>Between #trump, Giuliani, Ailes they have 10 d...</td>\n",
       "      <td>0</td>\n",
       "    </tr>\n",
       "    <tr>\n",
       "      <th>7578</th>\n",
       "      <td>Larry David brings Bernie Sanders back to ‘SNL...</td>\n",
       "      <td>0</td>\n",
       "    </tr>\n",
       "  </tbody>\n",
       "</table>\n",
       "</div>"
      ],
      "text/plain": [
       "                                                content label\n",
       "7574  Since 1986-2016(30Years) =20Years Republican A...     0\n",
       "7575  Onlooker repeatedly yells ‘Bill Clinton is a r...     0\n",
       "7576  I'm having a very hard time right now in sever...     0\n",
       "7577  Between #trump, Giuliani, Ailes they have 10 d...     0\n",
       "7578  Larry David brings Bernie Sanders back to ‘SNL...     0"
      ]
     },
     "execution_count": 43,
     "metadata": {},
     "output_type": "execute_result"
    }
   ],
   "source": [
    "df_neg.tail()"
   ]
  },
  {
   "cell_type": "code",
   "execution_count": 44,
   "metadata": {},
   "outputs": [],
   "source": [
    "final_df=pd.concat([df_pos,df_neg],ignore_index=True)"
   ]
  },
  {
   "cell_type": "code",
   "execution_count": 45,
   "metadata": {},
   "outputs": [],
   "source": [
    "# positive(bot)-1\n",
    "# negative(not bot)-0"
   ]
  },
  {
   "cell_type": "code",
   "execution_count": 46,
   "metadata": {},
   "outputs": [
    {
     "data": {
      "text/html": [
       "<div>\n",
       "<style scoped>\n",
       "    .dataframe tbody tr th:only-of-type {\n",
       "        vertical-align: middle;\n",
       "    }\n",
       "\n",
       "    .dataframe tbody tr th {\n",
       "        vertical-align: top;\n",
       "    }\n",
       "\n",
       "    .dataframe thead th {\n",
       "        text-align: right;\n",
       "    }\n",
       "</style>\n",
       "<table border=\"1\" class=\"dataframe\">\n",
       "  <thead>\n",
       "    <tr style=\"text-align: right;\">\n",
       "      <th></th>\n",
       "      <th>content</th>\n",
       "      <th>label</th>\n",
       "    </tr>\n",
       "  </thead>\n",
       "  <tbody>\n",
       "    <tr>\n",
       "      <th>0</th>\n",
       "      <td>If you leave me a voicemail,  I'm going to ass...</td>\n",
       "      <td>1</td>\n",
       "    </tr>\n",
       "    <tr>\n",
       "      <th>1</th>\n",
       "      <td>Trump Plays Political Insider and Outsider to ...</td>\n",
       "      <td>1</td>\n",
       "    </tr>\n",
       "    <tr>\n",
       "      <th>2</th>\n",
       "      <td>http://t.co/vtJIZlOrlf R @Rachelllee__ James @...</td>\n",
       "      <td>1</td>\n",
       "    </tr>\n",
       "    <tr>\n",
       "      <th>3</th>\n",
       "      <td>#may House Dem Trying To Impeach Trump Based o...</td>\n",
       "      <td>1</td>\n",
       "    </tr>\n",
       "    <tr>\n",
       "      <th>4</th>\n",
       "      <td>Share this for those who are too young to reme...</td>\n",
       "      <td>1</td>\n",
       "    </tr>\n",
       "    <tr>\n",
       "      <th>5</th>\n",
       "      <td>#RejectedStatueOfLibertySigns Trump said I was...</td>\n",
       "      <td>1</td>\n",
       "    </tr>\n",
       "    <tr>\n",
       "      <th>6</th>\n",
       "      <td>Dems are really calling out working class whit...</td>\n",
       "      <td>1</td>\n",
       "    </tr>\n",
       "    <tr>\n",
       "      <th>7</th>\n",
       "      <td>RT @SuperCzech01: MT @Stonewall_77: O, Our Mon...</td>\n",
       "      <td>1</td>\n",
       "    </tr>\n",
       "    <tr>\n",
       "      <th>8</th>\n",
       "      <td>Call GOP Leaders and urge them not to increase...</td>\n",
       "      <td>1</td>\n",
       "    </tr>\n",
       "    <tr>\n",
       "      <th>9</th>\n",
       "      <td>Havoc at Olympic Airport as Security Tightens....</td>\n",
       "      <td>1</td>\n",
       "    </tr>\n",
       "  </tbody>\n",
       "</table>\n",
       "</div>"
      ],
      "text/plain": [
       "                                             content label\n",
       "0  If you leave me a voicemail,  I'm going to ass...     1\n",
       "1  Trump Plays Political Insider and Outsider to ...     1\n",
       "2  http://t.co/vtJIZlOrlf R @Rachelllee__ James @...     1\n",
       "3  #may House Dem Trying To Impeach Trump Based o...     1\n",
       "4  Share this for those who are too young to reme...     1\n",
       "5  #RejectedStatueOfLibertySigns Trump said I was...     1\n",
       "6  Dems are really calling out working class whit...     1\n",
       "7  RT @SuperCzech01: MT @Stonewall_77: O, Our Mon...     1\n",
       "8  Call GOP Leaders and urge them not to increase...     1\n",
       "9  Havoc at Olympic Airport as Security Tightens....     1"
      ]
     },
     "execution_count": 46,
     "metadata": {},
     "output_type": "execute_result"
    }
   ],
   "source": [
    "final_df.head(10)"
   ]
  },
  {
   "cell_type": "code",
   "execution_count": 47,
   "metadata": {},
   "outputs": [
    {
     "data": {
      "text/plain": [
       "(10002, 2)"
      ]
     },
     "execution_count": 47,
     "metadata": {},
     "output_type": "execute_result"
    }
   ],
   "source": [
    "df_pos.shape"
   ]
  },
  {
   "cell_type": "code",
   "execution_count": 48,
   "metadata": {},
   "outputs": [
    {
     "data": {
      "text/plain": [
       "(7579, 2)"
      ]
     },
     "execution_count": 48,
     "metadata": {},
     "output_type": "execute_result"
    }
   ],
   "source": [
    "df_neg.shape"
   ]
  },
  {
   "cell_type": "code",
   "execution_count": 49,
   "metadata": {},
   "outputs": [
    {
     "data": {
      "text/plain": [
       "(3361823, 15)"
      ]
     },
     "execution_count": 49,
     "metadata": {},
     "output_type": "execute_result"
    }
   ],
   "source": [
    "df.shape"
   ]
  },
  {
   "cell_type": "code",
   "execution_count": 50,
   "metadata": {},
   "outputs": [
    {
     "data": {
      "text/plain": [
       "(17581, 2)"
      ]
     },
     "execution_count": 50,
     "metadata": {},
     "output_type": "execute_result"
    }
   ],
   "source": [
    "final_df.shape"
   ]
  },
  {
   "cell_type": "code",
   "execution_count": 51,
   "metadata": {},
   "outputs": [],
   "source": [
    "final_df = final_df.sample(frac=1).reset_index(drop=True)"
   ]
  },
  {
   "cell_type": "code",
   "execution_count": 52,
   "metadata": {},
   "outputs": [],
   "source": [
    "final_df.to_csv('final_df.csv') "
   ]
  },
  {
   "cell_type": "code",
   "execution_count": 53,
   "metadata": {},
   "outputs": [
    {
     "data": {
      "text/html": [
       "<div>\n",
       "<style scoped>\n",
       "    .dataframe tbody tr th:only-of-type {\n",
       "        vertical-align: middle;\n",
       "    }\n",
       "\n",
       "    .dataframe tbody tr th {\n",
       "        vertical-align: top;\n",
       "    }\n",
       "\n",
       "    .dataframe thead th {\n",
       "        text-align: right;\n",
       "    }\n",
       "</style>\n",
       "<table border=\"1\" class=\"dataframe\">\n",
       "  <thead>\n",
       "    <tr style=\"text-align: right;\">\n",
       "      <th></th>\n",
       "      <th>content</th>\n",
       "      <th>label</th>\n",
       "    </tr>\n",
       "  </thead>\n",
       "  <tbody>\n",
       "    <tr>\n",
       "      <th>3780</th>\n",
       "      <td>Please do this for Kevin and for us as a commu...</td>\n",
       "      <td>1</td>\n",
       "    </tr>\n",
       "    <tr>\n",
       "      <th>4322</th>\n",
       "      <td>Nibali wins Tour stage 19, Froome retains lead...</td>\n",
       "      <td>1</td>\n",
       "    </tr>\n",
       "    <tr>\n",
       "      <th>1043</th>\n",
       "      <td>On April 17, 1964 Ford Mustang debuts at World...</td>\n",
       "      <td>1</td>\n",
       "    </tr>\n",
       "    <tr>\n",
       "      <th>8022</th>\n",
       "      <td>Albuquerque Police hold perimeter for hours in...</td>\n",
       "      <td>1</td>\n",
       "    </tr>\n",
       "    <tr>\n",
       "      <th>454</th>\n",
       "      <td>Woman sells crafts for those with Alzheimer's ...</td>\n",
       "      <td>1</td>\n",
       "    </tr>\n",
       "    <tr>\n",
       "      <th>16835</th>\n",
       "      <td>#BillCosby won an Emmy and now all black peopl...</td>\n",
       "      <td>1</td>\n",
       "    </tr>\n",
       "    <tr>\n",
       "      <th>3401</th>\n",
       "      <td>'SNL' spoofs Trump children in 'Family Feud' s...</td>\n",
       "      <td>0</td>\n",
       "    </tr>\n",
       "    <tr>\n",
       "      <th>13086</th>\n",
       "      <td>The '95 #TrumpTaxReturns  shows that T**mp is ...</td>\n",
       "      <td>0</td>\n",
       "    </tr>\n",
       "    <tr>\n",
       "      <th>11776</th>\n",
       "      <td>#UnLockYourWorld Larry David brings Bernie San...</td>\n",
       "      <td>0</td>\n",
       "    </tr>\n",
       "    <tr>\n",
       "      <th>12514</th>\n",
       "      <td>Irrefutable Proof: Hillary Clinton Has a Seizu...</td>\n",
       "      <td>0</td>\n",
       "    </tr>\n",
       "  </tbody>\n",
       "</table>\n",
       "</div>"
      ],
      "text/plain": [
       "                                                 content label\n",
       "3780   Please do this for Kevin and for us as a commu...     1\n",
       "4322   Nibali wins Tour stage 19, Froome retains lead...     1\n",
       "1043   On April 17, 1964 Ford Mustang debuts at World...     1\n",
       "8022   Albuquerque Police hold perimeter for hours in...     1\n",
       "454    Woman sells crafts for those with Alzheimer's ...     1\n",
       "16835  #BillCosby won an Emmy and now all black peopl...     1\n",
       "3401   'SNL' spoofs Trump children in 'Family Feud' s...     0\n",
       "13086  The '95 #TrumpTaxReturns  shows that T**mp is ...     0\n",
       "11776  #UnLockYourWorld Larry David brings Bernie San...     0\n",
       "12514  Irrefutable Proof: Hillary Clinton Has a Seizu...     0"
      ]
     },
     "execution_count": 53,
     "metadata": {},
     "output_type": "execute_result"
    }
   ],
   "source": [
    "final_df.sample(10)"
   ]
  },
  {
   "cell_type": "code",
   "execution_count": 54,
   "metadata": {},
   "outputs": [
    {
     "data": {
      "text/plain": [
       "content    0\n",
       "label      0\n",
       "dtype: int64"
      ]
     },
     "execution_count": 54,
     "metadata": {},
     "output_type": "execute_result"
    }
   ],
   "source": [
    "final_df.isnull().sum()"
   ]
  },
  {
   "cell_type": "code",
   "execution_count": 55,
   "metadata": {},
   "outputs": [],
   "source": [
    "final_df = final_df.dropna(how='any',axis=0) "
   ]
  },
  {
   "cell_type": "code",
   "execution_count": 56,
   "metadata": {},
   "outputs": [
    {
     "data": {
      "text/plain": [
       "content    0\n",
       "label      0\n",
       "dtype: int64"
      ]
     },
     "execution_count": 56,
     "metadata": {},
     "output_type": "execute_result"
    }
   ],
   "source": [
    "final_df.isnull().sum()"
   ]
  },
  {
   "cell_type": "code",
   "execution_count": 57,
   "metadata": {},
   "outputs": [],
   "source": [
    "final_df_copy=final_df.copy()"
   ]
  },
  {
   "cell_type": "code",
   "execution_count": 58,
   "metadata": {},
   "outputs": [
    {
     "data": {
      "text/html": [
       "<div>\n",
       "<style scoped>\n",
       "    .dataframe tbody tr th:only-of-type {\n",
       "        vertical-align: middle;\n",
       "    }\n",
       "\n",
       "    .dataframe tbody tr th {\n",
       "        vertical-align: top;\n",
       "    }\n",
       "\n",
       "    .dataframe thead th {\n",
       "        text-align: right;\n",
       "    }\n",
       "</style>\n",
       "<table border=\"1\" class=\"dataframe\">\n",
       "  <thead>\n",
       "    <tr style=\"text-align: right;\">\n",
       "      <th></th>\n",
       "      <th>content</th>\n",
       "      <th>label</th>\n",
       "    </tr>\n",
       "  </thead>\n",
       "  <tbody>\n",
       "    <tr>\n",
       "      <th>0</th>\n",
       "      <td>Clinton campaign seizes on Trump cameo in Play...</td>\n",
       "      <td>0</td>\n",
       "    </tr>\n",
       "    <tr>\n",
       "      <th>1</th>\n",
       "      <td>Why we love Trump? Because he is everything Hi...</td>\n",
       "      <td>0</td>\n",
       "    </tr>\n",
       "    <tr>\n",
       "      <th>2</th>\n",
       "      <td>#IfIWereTedCruz I'd find a girl to kiss https:...</td>\n",
       "      <td>1</td>\n",
       "    </tr>\n",
       "    <tr>\n",
       "      <th>3</th>\n",
       "      <td>'@perryd43 @ItsColasity @KiddleJoyce @bettysp3...</td>\n",
       "      <td>1</td>\n",
       "    </tr>\n",
       "    <tr>\n",
       "      <th>4</th>\n",
       "      <td>I was 35 years old when Bill Clinton, Ark. Att...</td>\n",
       "      <td>1</td>\n",
       "    </tr>\n",
       "  </tbody>\n",
       "</table>\n",
       "</div>"
      ],
      "text/plain": [
       "                                             content label\n",
       "0  Clinton campaign seizes on Trump cameo in Play...     0\n",
       "1  Why we love Trump? Because he is everything Hi...     0\n",
       "2  #IfIWereTedCruz I'd find a girl to kiss https:...     1\n",
       "3  '@perryd43 @ItsColasity @KiddleJoyce @bettysp3...     1\n",
       "4  I was 35 years old when Bill Clinton, Ark. Att...     1"
      ]
     },
     "execution_count": 58,
     "metadata": {},
     "output_type": "execute_result"
    }
   ],
   "source": [
    "final_df_copy.head()"
   ]
  },
  {
   "cell_type": "code",
   "execution_count": 59,
   "metadata": {},
   "outputs": [],
   "source": [
    "final_df=final_df_copy"
   ]
  },
  {
   "cell_type": "code",
   "execution_count": 60,
   "metadata": {},
   "outputs": [
    {
     "data": {
      "text/html": [
       "<div>\n",
       "<style scoped>\n",
       "    .dataframe tbody tr th:only-of-type {\n",
       "        vertical-align: middle;\n",
       "    }\n",
       "\n",
       "    .dataframe tbody tr th {\n",
       "        vertical-align: top;\n",
       "    }\n",
       "\n",
       "    .dataframe thead th {\n",
       "        text-align: right;\n",
       "    }\n",
       "</style>\n",
       "<table border=\"1\" class=\"dataframe\">\n",
       "  <thead>\n",
       "    <tr style=\"text-align: right;\">\n",
       "      <th></th>\n",
       "      <th>content</th>\n",
       "      <th>label</th>\n",
       "    </tr>\n",
       "  </thead>\n",
       "  <tbody>\n",
       "    <tr>\n",
       "      <th>0</th>\n",
       "      <td>Clinton campaign seizes on Trump cameo in Play...</td>\n",
       "      <td>0</td>\n",
       "    </tr>\n",
       "    <tr>\n",
       "      <th>1</th>\n",
       "      <td>Why we love Trump? Because he is everything Hi...</td>\n",
       "      <td>0</td>\n",
       "    </tr>\n",
       "    <tr>\n",
       "      <th>2</th>\n",
       "      <td>#IfIWereTedCruz I'd find a girl to kiss https:...</td>\n",
       "      <td>1</td>\n",
       "    </tr>\n",
       "    <tr>\n",
       "      <th>3</th>\n",
       "      <td>'@perryd43 @ItsColasity @KiddleJoyce @bettysp3...</td>\n",
       "      <td>1</td>\n",
       "    </tr>\n",
       "    <tr>\n",
       "      <th>4</th>\n",
       "      <td>I was 35 years old when Bill Clinton, Ark. Att...</td>\n",
       "      <td>1</td>\n",
       "    </tr>\n",
       "  </tbody>\n",
       "</table>\n",
       "</div>"
      ],
      "text/plain": [
       "                                             content label\n",
       "0  Clinton campaign seizes on Trump cameo in Play...     0\n",
       "1  Why we love Trump? Because he is everything Hi...     0\n",
       "2  #IfIWereTedCruz I'd find a girl to kiss https:...     1\n",
       "3  '@perryd43 @ItsColasity @KiddleJoyce @bettysp3...     1\n",
       "4  I was 35 years old when Bill Clinton, Ark. Att...     1"
      ]
     },
     "execution_count": 60,
     "metadata": {},
     "output_type": "execute_result"
    }
   ],
   "source": [
    "final_df.head()"
   ]
  },
  {
   "cell_type": "code",
   "execution_count": 61,
   "metadata": {},
   "outputs": [
    {
     "name": "stdout",
     "output_type": "stream",
     "text": [
      "Requirement already satisfied: spacy in c:\\users\\acer\\anaconda3\\lib\\site-packages (2.3.5)Note: you may need to restart the kernel to use updated packages.\n",
      "Requirement already satisfied: srsly<1.1.0,>=1.0.2 in c:\\users\\acer\\anaconda3\\lib\\site-packages (from spacy) (1.0.5)\n",
      "Requirement already satisfied: murmurhash<1.1.0,>=0.28.0 in c:\\users\\acer\\anaconda3\\lib\\site-packages (from spacy) (1.0.5)\n",
      "Requirement already satisfied: blis<0.8.0,>=0.4.0 in c:\\users\\acer\\anaconda3\\lib\\site-packages (from spacy) (0.7.4)\n",
      "Requirement already satisfied: wasabi<1.1.0,>=0.4.0 in c:\\users\\acer\\anaconda3\\lib\\site-packages (from spacy) (0.8.0)\n",
      "Requirement already satisfied: tqdm<5.0.0,>=4.38.0 in c:\\users\\acer\\anaconda3\\lib\\site-packages (from spacy) (4.47.0)\n",
      "Requirement already satisfied: setuptools in c:\\users\\acer\\anaconda3\\lib\\site-packages (from spacy) (49.2.0.post20200714)\n",
      "Requirement already satisfied: thinc<7.5.0,>=7.4.1 in c:\\users\\acer\\anaconda3\\lib\\site-packages (from spacy) (7.4.5)\n",
      "\n",
      "Requirement already satisfied: numpy>=1.15.0 in c:\\users\\acer\\anaconda3\\lib\\site-packages (from spacy) (1.19.5)\n",
      "Requirement already satisfied: requests<3.0.0,>=2.13.0 in c:\\users\\acer\\anaconda3\\lib\\site-packages (from spacy) (2.24.0)\n",
      "Requirement already satisfied: plac<1.2.0,>=0.9.6 in c:\\users\\acer\\anaconda3\\lib\\site-packages (from spacy) (1.1.3)\n",
      "Requirement already satisfied: cymem<2.1.0,>=2.0.2 in c:\\users\\acer\\anaconda3\\lib\\site-packages (from spacy) (2.0.5)\n",
      "Requirement already satisfied: preshed<3.1.0,>=3.0.2 in c:\\users\\acer\\anaconda3\\lib\\site-packages (from spacy) (3.0.5)\n",
      "Requirement already satisfied: catalogue<1.1.0,>=0.0.7 in c:\\users\\acer\\anaconda3\\lib\\site-packages (from spacy) (1.0.0)\n",
      "Requirement already satisfied: chardet<4,>=3.0.2 in c:\\users\\acer\\anaconda3\\lib\\site-packages (from requests<3.0.0,>=2.13.0->spacy) (3.0.4)\n",
      "Requirement already satisfied: idna<3,>=2.5 in c:\\users\\acer\\anaconda3\\lib\\site-packages (from requests<3.0.0,>=2.13.0->spacy) (2.10)\n",
      "Requirement already satisfied: urllib3!=1.25.0,!=1.25.1,<1.26,>=1.21.1 in c:\\users\\acer\\anaconda3\\lib\\site-packages (from requests<3.0.0,>=2.13.0->spacy) (1.25.9)\n",
      "Requirement already satisfied: certifi>=2017.4.17 in c:\\users\\acer\\anaconda3\\lib\\site-packages (from requests<3.0.0,>=2.13.0->spacy) (2020.6.20)\n"
     ]
    }
   ],
   "source": [
    "pip install spacy"
   ]
  },
  {
   "cell_type": "markdown",
   "metadata": {},
   "source": [
    "# TEXT PREPROCESSING\n"
   ]
  },
  {
   "cell_type": "code",
   "execution_count": 62,
   "metadata": {},
   "outputs": [
    {
     "data": {
      "text/html": [
       "<div>\n",
       "<style scoped>\n",
       "    .dataframe tbody tr th:only-of-type {\n",
       "        vertical-align: middle;\n",
       "    }\n",
       "\n",
       "    .dataframe tbody tr th {\n",
       "        vertical-align: top;\n",
       "    }\n",
       "\n",
       "    .dataframe thead th {\n",
       "        text-align: right;\n",
       "    }\n",
       "</style>\n",
       "<table border=\"1\" class=\"dataframe\">\n",
       "  <thead>\n",
       "    <tr style=\"text-align: right;\">\n",
       "      <th></th>\n",
       "      <th>content</th>\n",
       "      <th>label</th>\n",
       "    </tr>\n",
       "  </thead>\n",
       "  <tbody>\n",
       "    <tr>\n",
       "      <th>0</th>\n",
       "      <td>Clinton campaign seizes on Trump cameo in Play...</td>\n",
       "      <td>0</td>\n",
       "    </tr>\n",
       "    <tr>\n",
       "      <th>1</th>\n",
       "      <td>Why we love Trump? Because he is everything Hi...</td>\n",
       "      <td>0</td>\n",
       "    </tr>\n",
       "    <tr>\n",
       "      <th>2</th>\n",
       "      <td>#IfIWereTedCruz I'd find a girl to kiss https:...</td>\n",
       "      <td>1</td>\n",
       "    </tr>\n",
       "    <tr>\n",
       "      <th>3</th>\n",
       "      <td>'@perryd43 @ItsColasity @KiddleJoyce @bettysp3...</td>\n",
       "      <td>1</td>\n",
       "    </tr>\n",
       "    <tr>\n",
       "      <th>4</th>\n",
       "      <td>I was 35 years old when Bill Clinton, Ark. Att...</td>\n",
       "      <td>1</td>\n",
       "    </tr>\n",
       "  </tbody>\n",
       "</table>\n",
       "</div>"
      ],
      "text/plain": [
       "                                             content label\n",
       "0  Clinton campaign seizes on Trump cameo in Play...     0\n",
       "1  Why we love Trump? Because he is everything Hi...     0\n",
       "2  #IfIWereTedCruz I'd find a girl to kiss https:...     1\n",
       "3  '@perryd43 @ItsColasity @KiddleJoyce @bettysp3...     1\n",
       "4  I was 35 years old when Bill Clinton, Ark. Att...     1"
      ]
     },
     "execution_count": 62,
     "metadata": {},
     "output_type": "execute_result"
    }
   ],
   "source": [
    "import numpy as np\n",
    "import pandas as pd\n",
    "import re\n",
    "import nltk\n",
    "import spacy\n",
    "import string\n",
    "pd.options.mode.chained_assignment = None\n",
    "\n",
    "\n",
    "final_df[\"content\"] = final_df[\"content\"].astype(str)\n",
    "final_df.head()"
   ]
  },
  {
   "cell_type": "code",
   "execution_count": 63,
   "metadata": {},
   "outputs": [
    {
     "data": {
      "text/html": [
       "<div>\n",
       "<style scoped>\n",
       "    .dataframe tbody tr th:only-of-type {\n",
       "        vertical-align: middle;\n",
       "    }\n",
       "\n",
       "    .dataframe tbody tr th {\n",
       "        vertical-align: top;\n",
       "    }\n",
       "\n",
       "    .dataframe thead th {\n",
       "        text-align: right;\n",
       "    }\n",
       "</style>\n",
       "<table border=\"1\" class=\"dataframe\">\n",
       "  <thead>\n",
       "    <tr style=\"text-align: right;\">\n",
       "      <th></th>\n",
       "      <th>content</th>\n",
       "      <th>label</th>\n",
       "      <th>content_preprocessed</th>\n",
       "    </tr>\n",
       "  </thead>\n",
       "  <tbody>\n",
       "    <tr>\n",
       "      <th>0</th>\n",
       "      <td>Clinton campaign seizes on Trump cameo in Play...</td>\n",
       "      <td>0</td>\n",
       "      <td>Clinton campaign seizes on Trump cameo in Play...</td>\n",
       "    </tr>\n",
       "    <tr>\n",
       "      <th>1</th>\n",
       "      <td>Why we love Trump? Because he is everything Hi...</td>\n",
       "      <td>0</td>\n",
       "      <td>Why we love Trump? Because he is everything Hi...</td>\n",
       "    </tr>\n",
       "    <tr>\n",
       "      <th>2</th>\n",
       "      <td>#IfIWereTedCruz I'd find a girl to kiss https:...</td>\n",
       "      <td>1</td>\n",
       "      <td>#IfIWereTedCruz I'd find a girl to kiss</td>\n",
       "    </tr>\n",
       "    <tr>\n",
       "      <th>3</th>\n",
       "      <td>'@perryd43 @ItsColasity @KiddleJoyce @bettysp3...</td>\n",
       "      <td>1</td>\n",
       "      <td>'@perryd43 @ItsColasity @KiddleJoyce @bettysp3...</td>\n",
       "    </tr>\n",
       "    <tr>\n",
       "      <th>4</th>\n",
       "      <td>I was 35 years old when Bill Clinton, Ark. Att...</td>\n",
       "      <td>1</td>\n",
       "      <td>I was 35 years old when Bill Clinton, Ark. Att...</td>\n",
       "    </tr>\n",
       "  </tbody>\n",
       "</table>\n",
       "</div>"
      ],
      "text/plain": [
       "                                             content label  \\\n",
       "0  Clinton campaign seizes on Trump cameo in Play...     0   \n",
       "1  Why we love Trump? Because he is everything Hi...     0   \n",
       "2  #IfIWereTedCruz I'd find a girl to kiss https:...     1   \n",
       "3  '@perryd43 @ItsColasity @KiddleJoyce @bettysp3...     1   \n",
       "4  I was 35 years old when Bill Clinton, Ark. Att...     1   \n",
       "\n",
       "                                content_preprocessed  \n",
       "0  Clinton campaign seizes on Trump cameo in Play...  \n",
       "1  Why we love Trump? Because he is everything Hi...  \n",
       "2           #IfIWereTedCruz I'd find a girl to kiss   \n",
       "3  '@perryd43 @ItsColasity @KiddleJoyce @bettysp3...  \n",
       "4  I was 35 years old when Bill Clinton, Ark. Att...  "
      ]
     },
     "execution_count": 63,
     "metadata": {},
     "output_type": "execute_result"
    }
   ],
   "source": [
    "# removing URLs\n",
    "\n",
    "def remove_urls(text):\n",
    "    url_pattern = re.compile(r'https?://\\S+|www\\.\\S+')\n",
    "    return url_pattern.sub(r'', text)\n",
    "final_df['content_preprocessed']= final_df['content'].apply(lambda text:remove_urls(text))\n",
    "final_df.head()"
   ]
  },
  {
   "cell_type": "code",
   "execution_count": 64,
   "metadata": {},
   "outputs": [
    {
     "data": {
      "text/html": [
       "<div>\n",
       "<style scoped>\n",
       "    .dataframe tbody tr th:only-of-type {\n",
       "        vertical-align: middle;\n",
       "    }\n",
       "\n",
       "    .dataframe tbody tr th {\n",
       "        vertical-align: top;\n",
       "    }\n",
       "\n",
       "    .dataframe thead th {\n",
       "        text-align: right;\n",
       "    }\n",
       "</style>\n",
       "<table border=\"1\" class=\"dataframe\">\n",
       "  <thead>\n",
       "    <tr style=\"text-align: right;\">\n",
       "      <th></th>\n",
       "      <th>content</th>\n",
       "      <th>label</th>\n",
       "      <th>content_preprocessed</th>\n",
       "    </tr>\n",
       "  </thead>\n",
       "  <tbody>\n",
       "    <tr>\n",
       "      <th>0</th>\n",
       "      <td>Clinton campaign seizes on Trump cameo in Play...</td>\n",
       "      <td>0</td>\n",
       "      <td>Clinton campaign seizes on Trump cameo in Play...</td>\n",
       "    </tr>\n",
       "    <tr>\n",
       "      <th>1</th>\n",
       "      <td>Why we love Trump? Because he is everything Hi...</td>\n",
       "      <td>0</td>\n",
       "      <td>Why we love Trump Because he is everything Hil...</td>\n",
       "    </tr>\n",
       "    <tr>\n",
       "      <th>2</th>\n",
       "      <td>#IfIWereTedCruz I'd find a girl to kiss https:...</td>\n",
       "      <td>1</td>\n",
       "      <td>I d find a girl to kiss</td>\n",
       "    </tr>\n",
       "    <tr>\n",
       "      <th>3</th>\n",
       "      <td>'@perryd43 @ItsColasity @KiddleJoyce @bettysp3...</td>\n",
       "      <td>1</td>\n",
       "      <td>LP4 oh member Sara</td>\n",
       "    </tr>\n",
       "    <tr>\n",
       "      <th>4</th>\n",
       "      <td>I was 35 years old when Bill Clinton, Ark. Att...</td>\n",
       "      <td>1</td>\n",
       "      <td>I was 35 years old when Bill Clinton Ark Attor...</td>\n",
       "    </tr>\n",
       "  </tbody>\n",
       "</table>\n",
       "</div>"
      ],
      "text/plain": [
       "                                             content label  \\\n",
       "0  Clinton campaign seizes on Trump cameo in Play...     0   \n",
       "1  Why we love Trump? Because he is everything Hi...     0   \n",
       "2  #IfIWereTedCruz I'd find a girl to kiss https:...     1   \n",
       "3  '@perryd43 @ItsColasity @KiddleJoyce @bettysp3...     1   \n",
       "4  I was 35 years old when Bill Clinton, Ark. Att...     1   \n",
       "\n",
       "                                content_preprocessed  \n",
       "0  Clinton campaign seizes on Trump cameo in Play...  \n",
       "1  Why we love Trump Because he is everything Hil...  \n",
       "2                            I d find a girl to kiss  \n",
       "3                                 LP4 oh member Sara  \n",
       "4  I was 35 years old when Bill Clinton Ark Attor...  "
      ]
     },
     "execution_count": 64,
     "metadata": {},
     "output_type": "execute_result"
    }
   ],
   "source": [
    "import string,re\n",
    "def strip_all_entities(text):\n",
    "    entity_prefixes = ['@','#']\n",
    "    for separator in  string.punctuation:\n",
    "        if separator not in entity_prefixes :\n",
    "            text = text.replace(separator,' ')\n",
    "    words = []\n",
    "    for word in text.split():\n",
    "        word = word.strip()\n",
    "        if word:\n",
    "            if word[0] not in entity_prefixes:\n",
    "                words.append(word)\n",
    "    return ' '.join(words)\n",
    "\n",
    "final_df['content_preprocessed'] = final_df['content_preprocessed'].apply(lambda x: strip_all_entities(x))\n",
    "final_df.head()\n"
   ]
  },
  {
   "cell_type": "code",
   "execution_count": 65,
   "metadata": {},
   "outputs": [
    {
     "name": "stdout",
     "output_type": "stream",
     "text": [
      "Requirement already satisfied: nltk in c:\\users\\acer\\anaconda3\\lib\\site-packages (3.5)\n",
      "Requirement already satisfied: click in c:\\users\\acer\\anaconda3\\lib\\site-packages (from nltk) (7.1.2)\n",
      "Requirement already satisfied: joblib in c:\\users\\acer\\anaconda3\\lib\\site-packages (from nltk) (0.16.0)\n",
      "Requirement already satisfied: tqdm in c:\\users\\acer\\anaconda3\\lib\\site-packages (from nltk) (4.47.0)\n",
      "Requirement already satisfied: regex in c:\\users\\acer\\anaconda3\\lib\\site-packages (from nltk) (2020.6.8)\n",
      "Note: you may need to restart the kernel to use updated packages.\n"
     ]
    }
   ],
   "source": [
    "pip install nltk"
   ]
  },
  {
   "cell_type": "code",
   "execution_count": 66,
   "metadata": {},
   "outputs": [
    {
     "name": "stderr",
     "output_type": "stream",
     "text": [
      "[nltk_data] Downloading package stopwords to\n",
      "[nltk_data]     C:\\Users\\acer\\AppData\\Roaming\\nltk_data...\n",
      "[nltk_data]   Package stopwords is already up-to-date!\n"
     ]
    },
    {
     "data": {
      "text/plain": [
       "\"i, me, my, myself, we, our, ours, ourselves, you, you're, you've, you'll, you'd, your, yours, yourself, yourselves, he, him, his, himself, she, she's, her, hers, herself, it, it's, its, itself, they, them, their, theirs, themselves, what, which, who, whom, this, that, that'll, these, those, am, is, are, was, were, be, been, being, have, has, had, having, do, does, did, doing, a, an, the, and, but, if, or, because, as, until, while, of, at, by, for, with, about, against, between, into, through, during, before, after, above, below, to, from, up, down, in, out, on, off, over, under, again, further, then, once, here, there, when, where, why, how, all, any, both, each, few, more, most, other, some, such, no, nor, not, only, own, same, so, than, too, very, s, t, can, will, just, don, don't, should, should've, now, d, ll, m, o, re, ve, y, ain, aren, aren't, couldn, couldn't, didn, didn't, doesn, doesn't, hadn, hadn't, hasn, hasn't, haven, haven't, isn, isn't, ma, mightn, mightn't, mustn, mustn't, needn, needn't, shan, shan't, shouldn, shouldn't, wasn, wasn't, weren, weren't, won, won't, wouldn, wouldn't\""
      ]
     },
     "execution_count": 66,
     "metadata": {},
     "output_type": "execute_result"
    }
   ],
   "source": [
    "import nltk\n",
    "nltk.download('stopwords')\n",
    "from nltk.corpus import stopwords\n",
    "\n",
    "\", \".join(stopwords.words('english'))"
   ]
  },
  {
   "cell_type": "code",
   "execution_count": 67,
   "metadata": {},
   "outputs": [
    {
     "data": {
      "text/html": [
       "<div>\n",
       "<style scoped>\n",
       "    .dataframe tbody tr th:only-of-type {\n",
       "        vertical-align: middle;\n",
       "    }\n",
       "\n",
       "    .dataframe tbody tr th {\n",
       "        vertical-align: top;\n",
       "    }\n",
       "\n",
       "    .dataframe thead th {\n",
       "        text-align: right;\n",
       "    }\n",
       "</style>\n",
       "<table border=\"1\" class=\"dataframe\">\n",
       "  <thead>\n",
       "    <tr style=\"text-align: right;\">\n",
       "      <th></th>\n",
       "      <th>content</th>\n",
       "      <th>label</th>\n",
       "      <th>content_preprocessed</th>\n",
       "    </tr>\n",
       "  </thead>\n",
       "  <tbody>\n",
       "    <tr>\n",
       "      <th>0</th>\n",
       "      <td>Clinton campaign seizes on Trump cameo in Play...</td>\n",
       "      <td>0</td>\n",
       "      <td>Clinton campaign seizes Trump cameo Playboy vi...</td>\n",
       "    </tr>\n",
       "    <tr>\n",
       "      <th>1</th>\n",
       "      <td>Why we love Trump? Because he is everything Hi...</td>\n",
       "      <td>0</td>\n",
       "      <td>Why love Trump Because everything Hillary never</td>\n",
       "    </tr>\n",
       "    <tr>\n",
       "      <th>2</th>\n",
       "      <td>#IfIWereTedCruz I'd find a girl to kiss https:...</td>\n",
       "      <td>1</td>\n",
       "      <td>I find girl kiss</td>\n",
       "    </tr>\n",
       "    <tr>\n",
       "      <th>3</th>\n",
       "      <td>'@perryd43 @ItsColasity @KiddleJoyce @bettysp3...</td>\n",
       "      <td>1</td>\n",
       "      <td>LP4 oh member Sara</td>\n",
       "    </tr>\n",
       "    <tr>\n",
       "      <th>4</th>\n",
       "      <td>I was 35 years old when Bill Clinton, Ark. Att...</td>\n",
       "      <td>1</td>\n",
       "      <td>I 35 years old Bill Clinton Ark Attorney Gener...</td>\n",
       "    </tr>\n",
       "  </tbody>\n",
       "</table>\n",
       "</div>"
      ],
      "text/plain": [
       "                                             content label  \\\n",
       "0  Clinton campaign seizes on Trump cameo in Play...     0   \n",
       "1  Why we love Trump? Because he is everything Hi...     0   \n",
       "2  #IfIWereTedCruz I'd find a girl to kiss https:...     1   \n",
       "3  '@perryd43 @ItsColasity @KiddleJoyce @bettysp3...     1   \n",
       "4  I was 35 years old when Bill Clinton, Ark. Att...     1   \n",
       "\n",
       "                                content_preprocessed  \n",
       "0  Clinton campaign seizes Trump cameo Playboy vi...  \n",
       "1    Why love Trump Because everything Hillary never  \n",
       "2                                   I find girl kiss  \n",
       "3                                 LP4 oh member Sara  \n",
       "4  I 35 years old Bill Clinton Ark Attorney Gener...  "
      ]
     },
     "execution_count": 67,
     "metadata": {},
     "output_type": "execute_result"
    }
   ],
   "source": [
    "# removing stop words\n",
    "\n",
    "\n",
    "STOPWORDS = set(stopwords.words('english'))\n",
    "def remove_stopwords(text):\n",
    "    \"\"\"custom function to remove the stopwords\"\"\"\n",
    "    return \" \".join([word for word in str(text).split() if word not in STOPWORDS])\n",
    "\n",
    "final_df[\"content_preprocessed\"] = final_df[\"content_preprocessed\"].apply(lambda text: remove_stopwords(text))\n",
    "final_df.head()"
   ]
  },
  {
   "cell_type": "code",
   "execution_count": 68,
   "metadata": {},
   "outputs": [
    {
     "data": {
      "text/html": [
       "<div>\n",
       "<style scoped>\n",
       "    .dataframe tbody tr th:only-of-type {\n",
       "        vertical-align: middle;\n",
       "    }\n",
       "\n",
       "    .dataframe tbody tr th {\n",
       "        vertical-align: top;\n",
       "    }\n",
       "\n",
       "    .dataframe thead th {\n",
       "        text-align: right;\n",
       "    }\n",
       "</style>\n",
       "<table border=\"1\" class=\"dataframe\">\n",
       "  <thead>\n",
       "    <tr style=\"text-align: right;\">\n",
       "      <th></th>\n",
       "      <th>content</th>\n",
       "      <th>label</th>\n",
       "      <th>content_preprocessed</th>\n",
       "    </tr>\n",
       "  </thead>\n",
       "  <tbody>\n",
       "    <tr>\n",
       "      <th>0</th>\n",
       "      <td>Clinton campaign seizes on Trump cameo in Play...</td>\n",
       "      <td>0</td>\n",
       "      <td>clinton campaign seizes trump cameo playboy vi...</td>\n",
       "    </tr>\n",
       "    <tr>\n",
       "      <th>1</th>\n",
       "      <td>Why we love Trump? Because he is everything Hi...</td>\n",
       "      <td>0</td>\n",
       "      <td>why love trump because everything hillary never</td>\n",
       "    </tr>\n",
       "    <tr>\n",
       "      <th>2</th>\n",
       "      <td>#IfIWereTedCruz I'd find a girl to kiss https:...</td>\n",
       "      <td>1</td>\n",
       "      <td>i find girl kiss</td>\n",
       "    </tr>\n",
       "    <tr>\n",
       "      <th>3</th>\n",
       "      <td>'@perryd43 @ItsColasity @KiddleJoyce @bettysp3...</td>\n",
       "      <td>1</td>\n",
       "      <td>oh member sara</td>\n",
       "    </tr>\n",
       "    <tr>\n",
       "      <th>4</th>\n",
       "      <td>I was 35 years old when Bill Clinton, Ark. Att...</td>\n",
       "      <td>1</td>\n",
       "      <td>i  years old bill clinton ark attorney general...</td>\n",
       "    </tr>\n",
       "  </tbody>\n",
       "</table>\n",
       "</div>"
      ],
      "text/plain": [
       "                                             content label  \\\n",
       "0  Clinton campaign seizes on Trump cameo in Play...     0   \n",
       "1  Why we love Trump? Because he is everything Hi...     0   \n",
       "2  #IfIWereTedCruz I'd find a girl to kiss https:...     1   \n",
       "3  '@perryd43 @ItsColasity @KiddleJoyce @bettysp3...     1   \n",
       "4  I was 35 years old when Bill Clinton, Ark. Att...     1   \n",
       "\n",
       "                                content_preprocessed  \n",
       "0  clinton campaign seizes trump cameo playboy vi...  \n",
       "1    why love trump because everything hillary never  \n",
       "2                                   i find girl kiss  \n",
       "3                                     oh member sara  \n",
       "4  i  years old bill clinton ark attorney general...  "
      ]
     },
     "execution_count": 68,
     "metadata": {},
     "output_type": "execute_result"
    }
   ],
   "source": [
    "def clean_text(text):\n",
    "    '''Make text lowercase, remove text in square brackets,remove links,remove punctuation\n",
    "    and remove words containing numbers.'''\n",
    "    text = text.lower()\n",
    "    text = re.sub('\\[.*?\\]', '', text)\n",
    "    text = re.sub('https?://\\S+|www\\.\\S+', '', text)\n",
    "    text = re.sub('<.*?>+', '', text)\n",
    "    text = re.sub('[%s]' % re.escape(string.punctuation), '', text)\n",
    "    text = re.sub('\\n', '', text)\n",
    "    text = re.sub('\\w*\\d\\w*', '', text)\n",
    "    return text\n",
    "\n",
    "# Applying the cleaning function to both test and training datasets\n",
    "final_df['content_preprocessed'] = final_df['content_preprocessed'].apply(lambda x: clean_text(x))\n",
    "\n",
    "final_df.head()"
   ]
  },
  {
   "cell_type": "code",
   "execution_count": null,
   "metadata": {},
   "outputs": [],
   "source": []
  },
  {
   "cell_type": "code",
   "execution_count": 69,
   "metadata": {},
   "outputs": [],
   "source": [
    "# removing URLs\n",
    "\n",
    "#def remove_urls(text):\n",
    "    #url_pattern = re.compile(r'https?://\\S+|www\\.\\S+')\n",
    "    #return url_pattern.sub(r'', text)\n",
    "#final_df['content_preprocessed']= final_df['content_preprocessed'].apply(lambda text:remove_urls(text))\n",
    "#final_df.head()"
   ]
  },
  {
   "cell_type": "code",
   "execution_count": 70,
   "metadata": {},
   "outputs": [],
   "source": [
    "# punctuation removal\n",
    "\n",
    "#PUNCT_TO_REMOVE = string.punctuation\n",
    "#def remove_punctuation(text):\n",
    "   # \"\"\"custom function to remove the punctuation\"\"\"\n",
    "    #return text.translate(str.maketrans('', '', PUNCT_TO_REMOVE))\n",
    "\n",
    "#final_df[\"content_preprocessed\"] = final_df[\"content_preprocessed\"].apply(lambda text: remove_punctuation(text))\n",
    "#final_df.head()"
   ]
  },
  {
   "cell_type": "code",
   "execution_count": null,
   "metadata": {},
   "outputs": [],
   "source": []
  },
  {
   "cell_type": "code",
   "execution_count": null,
   "metadata": {},
   "outputs": [],
   "source": []
  },
  {
   "cell_type": "code",
   "execution_count": 71,
   "metadata": {},
   "outputs": [
    {
     "name": "stdout",
     "output_type": "stream",
     "text": [
      "Requirement already satisfied: nltk in c:\\users\\acer\\anaconda3\\lib\\site-packages (3.5)\n",
      "Requirement already satisfied: click in c:\\users\\acer\\anaconda3\\lib\\site-packages (from nltk) (7.1.2)\n",
      "Requirement already satisfied: regex in c:\\users\\acer\\anaconda3\\lib\\site-packages (from nltk) (2020.6.8)\n",
      "Requirement already satisfied: tqdm in c:\\users\\acer\\anaconda3\\lib\\site-packages (from nltk) (4.47.0)\n",
      "Requirement already satisfied: joblib in c:\\users\\acer\\anaconda3\\lib\\site-packages (from nltk) (0.16.0)\n",
      "Note: you may need to restart the kernel to use updated packages.\n"
     ]
    }
   ],
   "source": [
    "pip install nltk"
   ]
  },
  {
   "cell_type": "code",
   "execution_count": 72,
   "metadata": {},
   "outputs": [],
   "source": [
    "# frequently used words\n",
    "\n",
    "#from collections import Counter\n",
    "#cnt = Counter()\n",
    "#for text in final_df[\"content_preprocessed\"].values:\n",
    "    #for word in text.split():\n",
    "        #cnt[word] += 1\n",
    "        \n",
    "#cnt.most_common(10)"
   ]
  },
  {
   "cell_type": "code",
   "execution_count": 73,
   "metadata": {},
   "outputs": [
    {
     "data": {
      "text/html": [
       "<div>\n",
       "<style scoped>\n",
       "    .dataframe tbody tr th:only-of-type {\n",
       "        vertical-align: middle;\n",
       "    }\n",
       "\n",
       "    .dataframe tbody tr th {\n",
       "        vertical-align: top;\n",
       "    }\n",
       "\n",
       "    .dataframe thead th {\n",
       "        text-align: right;\n",
       "    }\n",
       "</style>\n",
       "<table border=\"1\" class=\"dataframe\">\n",
       "  <thead>\n",
       "    <tr style=\"text-align: right;\">\n",
       "      <th></th>\n",
       "      <th>content</th>\n",
       "      <th>label</th>\n",
       "      <th>content_preprocessed</th>\n",
       "    </tr>\n",
       "  </thead>\n",
       "  <tbody>\n",
       "    <tr>\n",
       "      <th>0</th>\n",
       "      <td>Clinton campaign seizes on Trump cameo in Play...</td>\n",
       "      <td>0</td>\n",
       "      <td>[clinton, campaign, seizes, trump, cameo, play...</td>\n",
       "    </tr>\n",
       "    <tr>\n",
       "      <th>1</th>\n",
       "      <td>Why we love Trump? Because he is everything Hi...</td>\n",
       "      <td>0</td>\n",
       "      <td>[why, love, trump, because, everything, hillar...</td>\n",
       "    </tr>\n",
       "    <tr>\n",
       "      <th>2</th>\n",
       "      <td>#IfIWereTedCruz I'd find a girl to kiss https:...</td>\n",
       "      <td>1</td>\n",
       "      <td>[i, find, girl, kiss]</td>\n",
       "    </tr>\n",
       "    <tr>\n",
       "      <th>3</th>\n",
       "      <td>'@perryd43 @ItsColasity @KiddleJoyce @bettysp3...</td>\n",
       "      <td>1</td>\n",
       "      <td>[oh, member, sara]</td>\n",
       "    </tr>\n",
       "    <tr>\n",
       "      <th>4</th>\n",
       "      <td>I was 35 years old when Bill Clinton, Ark. Att...</td>\n",
       "      <td>1</td>\n",
       "      <td>[i, years, old, bill, clinton, ark, attorney, ...</td>\n",
       "    </tr>\n",
       "  </tbody>\n",
       "</table>\n",
       "</div>"
      ],
      "text/plain": [
       "                                             content label  \\\n",
       "0  Clinton campaign seizes on Trump cameo in Play...     0   \n",
       "1  Why we love Trump? Because he is everything Hi...     0   \n",
       "2  #IfIWereTedCruz I'd find a girl to kiss https:...     1   \n",
       "3  '@perryd43 @ItsColasity @KiddleJoyce @bettysp3...     1   \n",
       "4  I was 35 years old when Bill Clinton, Ark. Att...     1   \n",
       "\n",
       "                                content_preprocessed  \n",
       "0  [clinton, campaign, seizes, trump, cameo, play...  \n",
       "1  [why, love, trump, because, everything, hillar...  \n",
       "2                              [i, find, girl, kiss]  \n",
       "3                                 [oh, member, sara]  \n",
       "4  [i, years, old, bill, clinton, ark, attorney, ...  "
      ]
     },
     "execution_count": 73,
     "metadata": {},
     "output_type": "execute_result"
    }
   ],
   "source": [
    "tokenizer = nltk.tokenize.RegexpTokenizer(r'\\w+')\n",
    "final_df['content_preprocessed'] = final_df['content_preprocessed'].apply(lambda x: tokenizer.tokenize(x))\n",
    "final_df.head()\n",
    "\n"
   ]
  },
  {
   "cell_type": "code",
   "execution_count": 74,
   "metadata": {},
   "outputs": [
    {
     "data": {
      "text/html": [
       "<div>\n",
       "<style scoped>\n",
       "    .dataframe tbody tr th:only-of-type {\n",
       "        vertical-align: middle;\n",
       "    }\n",
       "\n",
       "    .dataframe tbody tr th {\n",
       "        vertical-align: top;\n",
       "    }\n",
       "\n",
       "    .dataframe thead th {\n",
       "        text-align: right;\n",
       "    }\n",
       "</style>\n",
       "<table border=\"1\" class=\"dataframe\">\n",
       "  <thead>\n",
       "    <tr style=\"text-align: right;\">\n",
       "      <th></th>\n",
       "      <th>content</th>\n",
       "      <th>label</th>\n",
       "      <th>content_preprocessed</th>\n",
       "    </tr>\n",
       "  </thead>\n",
       "  <tbody>\n",
       "    <tr>\n",
       "      <th>0</th>\n",
       "      <td>Clinton campaign seizes on Trump cameo in Play...</td>\n",
       "      <td>0</td>\n",
       "      <td>clinton campaign seizes trump cameo playboy vi...</td>\n",
       "    </tr>\n",
       "    <tr>\n",
       "      <th>1</th>\n",
       "      <td>Why we love Trump? Because he is everything Hi...</td>\n",
       "      <td>0</td>\n",
       "      <td>why love trump because everything hillary never</td>\n",
       "    </tr>\n",
       "    <tr>\n",
       "      <th>2</th>\n",
       "      <td>#IfIWereTedCruz I'd find a girl to kiss https:...</td>\n",
       "      <td>1</td>\n",
       "      <td>i find girl kiss</td>\n",
       "    </tr>\n",
       "    <tr>\n",
       "      <th>3</th>\n",
       "      <td>'@perryd43 @ItsColasity @KiddleJoyce @bettysp3...</td>\n",
       "      <td>1</td>\n",
       "      <td>oh member sara</td>\n",
       "    </tr>\n",
       "    <tr>\n",
       "      <th>4</th>\n",
       "      <td>I was 35 years old when Bill Clinton, Ark. Att...</td>\n",
       "      <td>1</td>\n",
       "      <td>i years old bill clinton ark attorney general ...</td>\n",
       "    </tr>\n",
       "  </tbody>\n",
       "</table>\n",
       "</div>"
      ],
      "text/plain": [
       "                                             content label  \\\n",
       "0  Clinton campaign seizes on Trump cameo in Play...     0   \n",
       "1  Why we love Trump? Because he is everything Hi...     0   \n",
       "2  #IfIWereTedCruz I'd find a girl to kiss https:...     1   \n",
       "3  '@perryd43 @ItsColasity @KiddleJoyce @bettysp3...     1   \n",
       "4  I was 35 years old when Bill Clinton, Ark. Att...     1   \n",
       "\n",
       "                                content_preprocessed  \n",
       "0  clinton campaign seizes trump cameo playboy vi...  \n",
       "1    why love trump because everything hillary never  \n",
       "2                                   i find girl kiss  \n",
       "3                                     oh member sara  \n",
       "4  i years old bill clinton ark attorney general ...  "
      ]
     },
     "execution_count": 74,
     "metadata": {},
     "output_type": "execute_result"
    }
   ],
   "source": [
    "def combine_text(list_of_text):\n",
    "    '''Takes a list of text and combines them into one large chunk of text.'''\n",
    "    combined_text = ' '.join(list_of_text)\n",
    "    return combined_text\n",
    "\n",
    "final_df['content_preprocessed'] = final_df['content_preprocessed'].apply(lambda x : combine_text(x))\n",
    "final_df.head()"
   ]
  },
  {
   "cell_type": "code",
   "execution_count": 75,
   "metadata": {},
   "outputs": [
    {
     "data": {
      "text/html": [
       "<div>\n",
       "<style scoped>\n",
       "    .dataframe tbody tr th:only-of-type {\n",
       "        vertical-align: middle;\n",
       "    }\n",
       "\n",
       "    .dataframe tbody tr th {\n",
       "        vertical-align: top;\n",
       "    }\n",
       "\n",
       "    .dataframe thead th {\n",
       "        text-align: right;\n",
       "    }\n",
       "</style>\n",
       "<table border=\"1\" class=\"dataframe\">\n",
       "  <thead>\n",
       "    <tr style=\"text-align: right;\">\n",
       "      <th></th>\n",
       "      <th>content</th>\n",
       "      <th>label</th>\n",
       "      <th>content_preprocessed</th>\n",
       "    </tr>\n",
       "  </thead>\n",
       "  <tbody>\n",
       "    <tr>\n",
       "      <th>0</th>\n",
       "      <td>Clinton campaign seizes on Trump cameo in Play...</td>\n",
       "      <td>0</td>\n",
       "      <td>clinton campaign seize trump cameo playboy vid...</td>\n",
       "    </tr>\n",
       "    <tr>\n",
       "      <th>1</th>\n",
       "      <td>Why we love Trump? Because he is everything Hi...</td>\n",
       "      <td>0</td>\n",
       "      <td>why love trump because everything hillary never</td>\n",
       "    </tr>\n",
       "    <tr>\n",
       "      <th>2</th>\n",
       "      <td>#IfIWereTedCruz I'd find a girl to kiss https:...</td>\n",
       "      <td>1</td>\n",
       "      <td>i find girl kiss</td>\n",
       "    </tr>\n",
       "    <tr>\n",
       "      <th>3</th>\n",
       "      <td>'@perryd43 @ItsColasity @KiddleJoyce @bettysp3...</td>\n",
       "      <td>1</td>\n",
       "      <td>oh member sara</td>\n",
       "    </tr>\n",
       "    <tr>\n",
       "      <th>4</th>\n",
       "      <td>I was 35 years old when Bill Clinton, Ark. Att...</td>\n",
       "      <td>1</td>\n",
       "      <td>i year old bill clinton ark attorney general r...</td>\n",
       "    </tr>\n",
       "  </tbody>\n",
       "</table>\n",
       "</div>"
      ],
      "text/plain": [
       "                                             content label  \\\n",
       "0  Clinton campaign seizes on Trump cameo in Play...     0   \n",
       "1  Why we love Trump? Because he is everything Hi...     0   \n",
       "2  #IfIWereTedCruz I'd find a girl to kiss https:...     1   \n",
       "3  '@perryd43 @ItsColasity @KiddleJoyce @bettysp3...     1   \n",
       "4  I was 35 years old when Bill Clinton, Ark. Att...     1   \n",
       "\n",
       "                                content_preprocessed  \n",
       "0  clinton campaign seize trump cameo playboy vid...  \n",
       "1    why love trump because everything hillary never  \n",
       "2                                   i find girl kiss  \n",
       "3                                     oh member sara  \n",
       "4  i year old bill clinton ark attorney general r...  "
      ]
     },
     "execution_count": 75,
     "metadata": {},
     "output_type": "execute_result"
    }
   ],
   "source": [
    "from nltk.corpus import wordnet\n",
    "from nltk.stem import WordNetLemmatizer\n",
    "\n",
    "lemmatizer = WordNetLemmatizer()\n",
    "wordnet_map = {\"N\":wordnet.NOUN, \"V\":wordnet.VERB, \"J\":wordnet.ADJ, \"R\":wordnet.ADV}\n",
    "def lemmatize_words(text):\n",
    "    pos_tagged_text = nltk.pos_tag(text.split())\n",
    "    return \" \".join([lemmatizer.lemmatize(word, wordnet_map.get(pos[0], wordnet.NOUN)) for word, pos in pos_tagged_text])\n",
    "\n",
    "final_df[\"content_preprocessed\"] = final_df[\"content_preprocessed\"].apply(lambda text: lemmatize_words(text))\n",
    "final_df.head()"
   ]
  },
  {
   "cell_type": "code",
   "execution_count": 76,
   "metadata": {},
   "outputs": [
    {
     "data": {
      "text/html": [
       "<div>\n",
       "<style scoped>\n",
       "    .dataframe tbody tr th:only-of-type {\n",
       "        vertical-align: middle;\n",
       "    }\n",
       "\n",
       "    .dataframe tbody tr th {\n",
       "        vertical-align: top;\n",
       "    }\n",
       "\n",
       "    .dataframe thead th {\n",
       "        text-align: right;\n",
       "    }\n",
       "</style>\n",
       "<table border=\"1\" class=\"dataframe\">\n",
       "  <thead>\n",
       "    <tr style=\"text-align: right;\">\n",
       "      <th></th>\n",
       "      <th>content</th>\n",
       "      <th>label</th>\n",
       "      <th>content_preprocessed</th>\n",
       "    </tr>\n",
       "  </thead>\n",
       "  <tbody>\n",
       "    <tr>\n",
       "      <th>10043</th>\n",
       "      <td>I pray 4 my friends and family members in Germ...</td>\n",
       "      <td>1</td>\n",
       "      <td>i pray friend family member germany also thier...</td>\n",
       "    </tr>\n",
       "    <tr>\n",
       "      <th>14331</th>\n",
       "      <td>#News #US Against the odds, wife and mom of 3 ...</td>\n",
       "      <td>1</td>\n",
       "      <td>against odds wife mom nfl referee cbs news</td>\n",
       "    </tr>\n",
       "    <tr>\n",
       "      <th>1891</th>\n",
       "      <td>Hey Oscars, this is how the Golden Globes does...</td>\n",
       "      <td>1</td>\n",
       "      <td>hey oscar golden globe diversity win year award</td>\n",
       "    </tr>\n",
       "    <tr>\n",
       "      <th>392</th>\n",
       "      <td>Los Angeles Rams announce that they have fired...</td>\n",
       "      <td>1</td>\n",
       "      <td>los angeles ram announce fire head coach jeff ...</td>\n",
       "    </tr>\n",
       "    <tr>\n",
       "      <th>10545</th>\n",
       "      <td>A great time with @deray (and his vest).  ✊�  ...</td>\n",
       "      <td>1</td>\n",
       "      <td>a great time vest see rest website</td>\n",
       "    </tr>\n",
       "  </tbody>\n",
       "</table>\n",
       "</div>"
      ],
      "text/plain": [
       "                                                 content label  \\\n",
       "10043  I pray 4 my friends and family members in Germ...     1   \n",
       "14331  #News #US Against the odds, wife and mom of 3 ...     1   \n",
       "1891   Hey Oscars, this is how the Golden Globes does...     1   \n",
       "392    Los Angeles Rams announce that they have fired...     1   \n",
       "10545  A great time with @deray (and his vest).  ✊�  ...     1   \n",
       "\n",
       "                                    content_preprocessed  \n",
       "10043  i pray friend family member germany also thier...  \n",
       "14331         against odds wife mom nfl referee cbs news  \n",
       "1891     hey oscar golden globe diversity win year award  \n",
       "392    los angeles ram announce fire head coach jeff ...  \n",
       "10545                 a great time vest see rest website  "
      ]
     },
     "execution_count": 76,
     "metadata": {},
     "output_type": "execute_result"
    }
   ],
   "source": [
    "def remove_emoji(string):\n",
    "    emoji_pattern = re.compile(\"[\"\n",
    "                           u\"\\U0001F600-\\U0001F64F\"  # emoticons\n",
    "                           u\"\\U0001F300-\\U0001F5FF\"  # symbols & pictographs\n",
    "                           u\"\\U0001F680-\\U0001F6FF\"  # transport & map symbols\n",
    "                           u\"\\U0001F1E0-\\U0001F1FF\"  # flags (iOS)\n",
    "                           u\"\\U00002702-\\U000027B0\"\n",
    "                           u\"\\U000024C2-\\U0001F251\"\n",
    "                           \"]+\", flags=re.UNICODE)\n",
    "    return emoji_pattern.sub(r'', string)\n",
    "final_df[\"content_preprocessed\"] = final_df[\"content_preprocessed\"].apply(lambda string: remove_emoji(string))\n",
    "final_df.sample(5)"
   ]
  },
  {
   "cell_type": "code",
   "execution_count": 77,
   "metadata": {},
   "outputs": [
    {
     "data": {
      "text/plain": [
       "<matplotlib.axes._subplots.AxesSubplot at 0x243ac2d3a00>"
      ]
     },
     "execution_count": 77,
     "metadata": {},
     "output_type": "execute_result"
    },
    {
     "data": {
      "image/png": "[encoded data removed]",
      "text/plain": [
       "<Figure size 432x288 with 1 Axes>"
      ]
     },
     "metadata": {
      "needs_background": "light"
     },
     "output_type": "display_data"
    }
   ],
   "source": [
    "import seaborn as sns\n",
    "sns.barplot(final_df['label'].value_counts().index,final_df['label'].value_counts(),palette='rocket')"
   ]
  },
  {
   "cell_type": "code",
   "execution_count": null,
   "metadata": {},
   "outputs": [],
   "source": []
  },
  {
   "cell_type": "code",
   "execution_count": null,
   "metadata": {},
   "outputs": [],
   "source": []
  },
  {
   "cell_type": "code",
   "execution_count": null,
   "metadata": {},
   "outputs": [],
   "source": []
  },
  {
   "cell_type": "code",
   "execution_count": null,
   "metadata": {
    "scrolled": true
   },
   "outputs": [],
   "source": []
  },
  {
   "cell_type": "code",
   "execution_count": null,
   "metadata": {},
   "outputs": [],
   "source": []
  },
  {
   "cell_type": "code",
   "execution_count": null,
   "metadata": {},
   "outputs": [],
   "source": []
  },
  {
   "cell_type": "code",
   "execution_count": null,
   "metadata": {},
   "outputs": [],
   "source": []
  },
  {
   "cell_type": "markdown",
   "metadata": {},
   "source": [
    "# Bag of words and tf-idf"
   ]
  },
  {
   "cell_type": "code",
   "execution_count": 78,
   "metadata": {},
   "outputs": [
    {
     "name": "stdout",
     "output_type": "stream",
     "text": [
      "  (0, 2748)\t2\n",
      "  (0, 2193)\t2\n",
      "  (0, 13479)\t2\n",
      "  (0, 15641)\t1\n",
      "  (0, 2180)\t1\n",
      "  (0, 11522)\t1\n",
      "  (0, 16293)\t1\n",
      "  (0, 6939)\t1\n",
      "  (0, 5919)\t1\n",
      "  (0, 10359)\t1\n",
      "  (1, 15641)\t1\n",
      "  (1, 6939)\t1\n",
      "  (1, 16690)\t1\n",
      "  (1, 8995)\t1\n",
      "  (1, 1329)\t1\n",
      "  (1, 5188)\t1\n",
      "  (1, 10285)\t1\n",
      "  (2, 5623)\t1\n",
      "  (2, 6253)\t1\n",
      "  (2, 8332)\t1\n",
      "  (3, 10683)\t1\n",
      "  (3, 9511)\t1\n",
      "  (3, 13261)\t1\n",
      "  (4, 2748)\t1\n",
      "  (4, 6939)\t1\n",
      "  :\t:\n",
      "  (17578, 10904)\t1\n",
      "  (17578, 6423)\t1\n",
      "  (17578, 15259)\t1\n",
      "  (17578, 9513)\t1\n",
      "  (17578, 13608)\t1\n",
      "  (17578, 796)\t1\n",
      "  (17578, 3898)\t1\n",
      "  (17578, 9273)\t1\n",
      "  (17578, 2275)\t1\n",
      "  (17578, 8994)\t1\n",
      "  (17579, 13307)\t1\n",
      "  (17579, 16114)\t1\n",
      "  (17579, 16468)\t1\n",
      "  (17579, 14570)\t1\n",
      "  (17579, 2516)\t1\n",
      "  (17579, 12750)\t1\n",
      "  (17579, 10678)\t1\n",
      "  (17579, 8065)\t1\n",
      "  (17579, 5654)\t1\n",
      "  (17579, 227)\t1\n",
      "  (17580, 15153)\t2\n",
      "  (17580, 15147)\t1\n",
      "  (17580, 8542)\t1\n",
      "  (17580, 3592)\t1\n",
      "  (17580, 2425)\t1\n"
     ]
    }
   ],
   "source": [
    "# bag of words\n",
    "\n",
    "from sklearn.feature_extraction.text import CountVectorizer\n",
    "count_vectorizer = CountVectorizer()\n",
    "final_df_vectors = count_vectorizer.fit_transform(final_df['content_preprocessed'])\n",
    "print(final_df_vectors)"
   ]
  },
  {
   "cell_type": "code",
   "execution_count": 79,
   "metadata": {},
   "outputs": [
    {
     "name": "stdout",
     "output_type": "stream",
     "text": [
      "  (0, 11167)\t0.236275707264709\n",
      "  (0, 6329)\t0.2267303125546746\n",
      "  (0, 2343)\t0.22954998835724366\n",
      "  (0, 7496)\t0.11572390924112982\n",
      "  (0, 18300)\t0.22185099245293738\n",
      "  (0, 12408)\t0.20562948435071315\n",
      "  (0, 2330)\t0.20687446081653493\n",
      "  (0, 17244)\t0.20955291113132873\n",
      "  (0, 14529)\t0.21099986718100347\n",
      "  (0, 2363)\t0.20818019137843446\n",
      "  (0, 2962)\t0.36521726744844446\n",
      "  (0, 11162)\t0.15075041823498056\n",
      "  (0, 6328)\t0.2011587549004624\n",
      "  (0, 7484)\t0.09974564259891\n",
      "  (0, 18280)\t0.127741609079032\n",
      "  (0, 12403)\t0.17622823790253905\n",
      "  (0, 2329)\t0.2001487419090696\n",
      "  (0, 17174)\t0.06037114238471633\n",
      "  (0, 14527)\t0.39647269024420717\n",
      "  (0, 2338)\t0.27607102096319847\n",
      "  (0, 2930)\t0.17205667809811911\n",
      "  (1, 9709)\t0.4585027433339708\n",
      "  (1, 18960)\t0.49388228596622\n",
      "  (1, 10984)\t0.29091106714766923\n",
      "  (1, 5510)\t0.34097444667963656\n",
      "  :\t:\n",
      "  (17578, 18241)\t0.12519779456522917\n",
      "  (17578, 8412)\t0.14738420988438417\n",
      "  (17578, 19460)\t0.14950698032181303\n",
      "  (17578, 17759)\t0.1738414477536988\n",
      "  (17578, 6664)\t0.19847598648839415\n",
      "  (17579, 220)\t0.35417929409695903\n",
      "  (17579, 15601)\t0.3280299994584358\n",
      "  (17579, 18507)\t0.2953975752218798\n",
      "  (17579, 6029)\t0.30691823772368954\n",
      "  (17579, 8654)\t0.3018807048199126\n",
      "  (17579, 11556)\t0.30691823772368954\n",
      "  (17579, 13721)\t0.29346251221428443\n",
      "  (17579, 2695)\t0.3388829373131142\n",
      "  (17579, 15599)\t0.25814796179176697\n",
      "  (17579, 18502)\t0.24842124063554413\n",
      "  (17579, 18119)\t0.21408308818698998\n",
      "  (17579, 14257)\t0.1581679724312309\n",
      "  (17580, 3918)\t0.4246032225557996\n",
      "  (17580, 9098)\t0.4054376592634146\n",
      "  (17580, 2599)\t0.37011825785282926\n",
      "  (17580, 3912)\t0.32533734756694543\n",
      "  (17580, 16414)\t0.33151151477225105\n",
      "  (17580, 9088)\t0.28626182614723605\n",
      "  (17580, 16306)\t0.32074460226414375\n",
      "  (17580, 16336)\t0.3431875229535567\n"
     ]
    }
   ],
   "source": [
    "from sklearn.feature_extraction.text import TfidfVectorizer\n",
    "tfidf = TfidfVectorizer(min_df=2, max_df=0.5, ngram_range=(1, 2))\n",
    "final_df_tfidf = tfidf.fit_transform(final_df['content_preprocessed'])\n",
    "\n",
    "print(final_df_tfidf)\n"
   ]
  },
  {
   "cell_type": "markdown",
   "metadata": {},
   "source": [
    "# Model Training\n"
   ]
  },
  {
   "cell_type": "code",
   "execution_count": 80,
   "metadata": {},
   "outputs": [
    {
     "name": "stdout",
     "output_type": "stream",
     "text": [
      "Requirement already satisfied: xgboost in c:\\users\\acer\\anaconda3\\lib\\site-packages (1.3.3)\n",
      "Requirement already satisfied: numpy in c:\\users\\acer\\anaconda3\\lib\\site-packages (from xgboost) (1.19.5)\n",
      "Requirement already satisfied: scipy in c:\\users\\acer\\anaconda3\\lib\\site-packages (from xgboost) (1.5.0)\n",
      "Note: you may need to restart the kernel to use updated packages.\n"
     ]
    }
   ],
   "source": [
    "pip install xgboost"
   ]
  },
  {
   "cell_type": "code",
   "execution_count": 81,
   "metadata": {},
   "outputs": [],
   "source": [
    "#pip install keras"
   ]
  },
  {
   "cell_type": "code",
   "execution_count": 82,
   "metadata": {},
   "outputs": [],
   "source": [
    "#pip install tensorflow"
   ]
  },
  {
   "cell_type": "code",
   "execution_count": 83,
   "metadata": {},
   "outputs": [],
   "source": [
    "import pandas as pd\n",
    "import numpy as np\n",
    "import xgboost as xgb\n",
    "from tqdm import tqdm\n",
    "from sklearn.svm import SVC\n",
    "from keras.models import Sequential\n",
    "from keras.layers.recurrent import LSTM, GRU\n",
    "from keras.layers.core import Dense, Activation, Dropout\n",
    "from keras.layers.embeddings import Embedding\n",
    "from keras.layers.normalization import BatchNormalization\n",
    "from keras.utils import np_utils\n",
    "from sklearn import preprocessing, decomposition, model_selection, metrics, pipeline\n",
    "from sklearn.model_selection import GridSearchCV\n",
    "from sklearn.feature_extraction.text import TfidfVectorizer, CountVectorizer\n",
    "from sklearn.decomposition import TruncatedSVD\n",
    "from sklearn.linear_model import LogisticRegression\n",
    "from sklearn.model_selection import train_test_split\n",
    "from sklearn.naive_bayes import MultinomialNB\n",
    "from keras.layers import GlobalMaxPooling1D, Conv1D, MaxPooling1D, Flatten, Bidirectional, SpatialDropout1D\n",
    "from keras.preprocessing import sequence, text\n",
    "from keras.callbacks import EarlyStopping\n",
    "from nltk import word_tokenize\n",
    "from nltk.corpus import stopwords\n",
    "stop_words = stopwords.words('english')"
   ]
  },
  {
   "cell_type": "code",
   "execution_count": 84,
   "metadata": {},
   "outputs": [],
   "source": [
    "def multiclass_logloss(actual, predicted, eps=1e-15):\n",
    "    \"\"\"Multi class version of Logarithmic Loss metric.\n",
    "    :param actual: Array containing the actual target classes\n",
    "    :param predicted: Matrix with class predictions, one probability per class\n",
    "    \"\"\"\n",
    "    # Convert 'actual' to a binary array if it's not already:\n",
    "    if len(actual.shape) == 1:\n",
    "        actual2 = np.zeros((actual.shape[0], predicted.shape[1]))\n",
    "        for i, val in enumerate(actual):\n",
    "            actual2[i, val] = 1\n",
    "        actual = actual2\n",
    "\n",
    "    clip = np.clip(predicted, eps, 1 - eps)\n",
    "    rows = actual.shape[0]\n",
    "    vsota = np.sum(actual * np.log(clip))\n",
    "    return -1.0 / rows * vsota"
   ]
  },
  {
   "cell_type": "code",
   "execution_count": 85,
   "metadata": {},
   "outputs": [
    {
     "name": "stdout",
     "output_type": "stream",
     "text": [
      "['clinton campaign seize trump cameo playboy video hillary clinton campaign friday night seize'\n",
      " 'why love trump because everything hillary never' 'i find girl kiss' ...\n",
      " 'girl you try it demi lovato throw major shade mariah carey over ariana grande meme via'\n",
      " 'restaurant often use cheap fish advertise wall street journal say'\n",
      " 'the late the ceo daily thanks']\n"
     ]
    }
   ],
   "source": [
    "X=final_df['content_preprocessed'].values\n",
    "print(X)"
   ]
  },
  {
   "cell_type": "code",
   "execution_count": 86,
   "metadata": {},
   "outputs": [
    {
     "name": "stdout",
     "output_type": "stream",
     "text": [
      "['0' '0' '1' ... '1' '1' '1']\n"
     ]
    }
   ],
   "source": [
    "y=final_df['label'].values\n",
    "\n",
    "print(y)"
   ]
  },
  {
   "cell_type": "code",
   "execution_count": 87,
   "metadata": {},
   "outputs": [],
   "source": [
    "from sklearn.model_selection import train_test_split\n",
    "X_train, X_test, y_train, y_test = train_test_split (X, y, test_size=0.2, random_state=0)\n",
    "\n",
    " "
   ]
  },
  {
   "cell_type": "code",
   "execution_count": 88,
   "metadata": {},
   "outputs": [
    {
     "name": "stdout",
     "output_type": "stream",
     "text": [
      "(14064,)\n"
     ]
    }
   ],
   "source": [
    "from sklearn.model_selection import train_test_split\n",
    "xtrain, xvalid, ytrain, yvalid = train_test_split(X, y, \n",
    "                                                  stratify=y, \n",
    "                                                  random_state=42, \n",
    "                                                  test_size=0.2, shuffle=True)\n",
    "print (xtrain.shape)"
   ]
  },
  {
   "cell_type": "code",
   "execution_count": 89,
   "metadata": {},
   "outputs": [
    {
     "name": "stdout",
     "output_type": "stream",
     "text": [
      "['so sad morning hear happen brussels'\n",
      " 'here video donald trump worry would use campaign ad'\n",
      " 'when mom say always little mr president' ...\n",
      " 'in news furiously sign new batch immunity agreement'\n",
      " 'firearm maker criticize gun resemble nintendo s duck hunt zapper'\n",
      " 'kesharose show support alicia machado donald trump bash online']\n"
     ]
    }
   ],
   "source": [
    "print(xtrain)"
   ]
  },
  {
   "cell_type": "code",
   "execution_count": 90,
   "metadata": {},
   "outputs": [],
   "source": [
    "from sklearn.feature_extraction.text import TfidfVectorizer, CountVectorizer\n",
    "# Always start with these features. They work (almost) everytime!\n",
    "tfv = TfidfVectorizer(min_df=3,  max_features=None, \n",
    "            strip_accents='unicode', analyzer='word',token_pattern=r'\\w{1,}',\n",
    "            ngram_range=(1, 3), use_idf=1,smooth_idf=1,sublinear_tf=1,\n",
    "            stop_words = 'english')\n",
    "\n",
    "# Fitting TF-IDF to both training and test sets (semi-supervised learning)\n",
    "tfv.fit(list(xtrain) + list(xvalid))\n",
    "xtrain_tfv =  tfv.transform(xtrain) \n",
    "xvalid_tfv = tfv.transform(xvalid)\n"
   ]
  },
  {
   "cell_type": "code",
   "execution_count": 91,
   "metadata": {},
   "outputs": [
    {
     "name": "stdout",
     "output_type": "stream",
     "text": [
      "  (0, 8409)\t0.4533053455506933\n",
      "  (0, 6172)\t0.3979287556850235\n",
      "  (0, 4231)\t0.4156939308018753\n",
      "  (0, 4172)\t0.40758356418821184\n",
      "  (0, 1159)\t0.5451982787869522\n",
      "  (1, 11375)\t0.35812786080206466\n",
      "  (1, 10911)\t0.4068582705372349\n",
      "  (1, 10910)\t0.4068582705372349\n",
      "  (1, 10903)\t0.23123780399738167\n",
      "  (1, 10829)\t0.27562346068905197\n",
      "  (1, 10040)\t0.10956616023686273\n",
      "  (1, 2787)\t0.17903990656649846\n",
      "  (1, 2783)\t0.17678227106739763\n",
      "  (1, 1264)\t0.4166048514776322\n",
      "  (1, 1263)\t0.2505173873210137\n",
      "  (1, 98)\t0.31560632127305754\n",
      "  (2, 8509)\t0.2271468481147202\n",
      "  (2, 7364)\t0.27563882354059394\n",
      "  (2, 6197)\t0.4710876628102022\n",
      "  (2, 6195)\t0.35676060676346094\n",
      "  (2, 6137)\t0.50864096621457\n",
      "  (2, 6135)\t0.3763195750146732\n",
      "  (2, 5450)\t0.3505620868085687\n",
      "  (3, 8615)\t0.3471259830459287\n",
      "  (3, 8181)\t0.36472786428581727\n",
      "  :\t:\n",
      "  (14061, 8850)\t0.4058279776529826\n",
      "  (14061, 6415)\t0.3534186250640397\n",
      "  (14061, 6369)\t0.30092910299486686\n",
      "  (14061, 4617)\t0.5514559254409849\n",
      "  (14061, 170)\t0.5619047653105156\n",
      "  (14062, 8302)\t0.19106247899466774\n",
      "  (14062, 8005)\t0.4524565697391448\n",
      "  (14062, 5713)\t0.4329157969292303\n",
      "  (14062, 4530)\t0.39208156813601897\n",
      "  (14062, 4092)\t0.31249476070430904\n",
      "  (14062, 2944)\t0.41905139797886254\n",
      "  (14062, 2232)\t0.37996985235903363\n",
      "  (14063, 10074)\t0.3634817274554777\n",
      "  (14063, 10040)\t0.08733775753972085\n",
      "  (14063, 9337)\t0.21741435407852222\n",
      "  (14063, 6685)\t0.28420262124627066\n",
      "  (14063, 5631)\t0.3634817274554777\n",
      "  (14063, 5630)\t0.3634817274554777\n",
      "  (14063, 5629)\t0.2561373293456245\n",
      "  (14063, 2787)\t0.14271691109586027\n",
      "  (14063, 2783)\t0.1409172968590624\n",
      "  (14063, 774)\t0.3123082216437437\n",
      "  (14063, 234)\t0.3634817274554777\n",
      "  (14063, 233)\t0.26200478183418985\n",
      "  (14063, 231)\t0.25266787743567864\n"
     ]
    }
   ],
   "source": [
    "print(xtrain_tfv)"
   ]
  },
  {
   "cell_type": "code",
   "execution_count": 92,
   "metadata": {},
   "outputs": [
    {
     "ename": "NameError",
     "evalue": "name 'pickle' is not defined",
     "output_type": "error",
     "traceback": [
      "\u001b[1;31m---------------------------------------------------------------------------\u001b[0m",
      "\u001b[1;31mNameError\u001b[0m                                 Traceback (most recent call last)",
      "\u001b[1;32m<ipython-input-92-be29db2d63cf>\u001b[0m in \u001b[0;36m<module>\u001b[1;34m\u001b[0m\n\u001b[1;32m----> 1\u001b[1;33m \u001b[0mpickle\u001b[0m\u001b[1;33m.\u001b[0m\u001b[0mdump\u001b[0m\u001b[1;33m(\u001b[0m\u001b[0mtfv\u001b[0m\u001b[1;33m,\u001b[0m \u001b[0mopen\u001b[0m\u001b[1;33m(\u001b[0m\u001b[1;34m'tfv.pkl'\u001b[0m\u001b[1;33m,\u001b[0m\u001b[1;34m'wb'\u001b[0m\u001b[1;33m)\u001b[0m\u001b[1;33m)\u001b[0m\u001b[1;33m\u001b[0m\u001b[1;33m\u001b[0m\u001b[0m\n\u001b[0m",
      "\u001b[1;31mNameError\u001b[0m: name 'pickle' is not defined"
     ]
    }
   ],
   "source": [
    "pickle.dump(tfv, open('tfv.pkl','wb'))"
   ]
  },
  {
   "cell_type": "code",
   "execution_count": null,
   "metadata": {},
   "outputs": [],
   "source": [
    "# Fitting a simple Logistic Regression on TFIDF\n",
    "from sklearn.linear_model import LogisticRegression\n",
    "from sklearn.metrics import accuracy_score\n",
    "clf1 = LogisticRegression(C=1.0)\n",
    "clf1.fit(xtrain_tfv, ytrain)\n",
    "predictions = clf1.predict_proba(xvalid_tfv)\n",
    "\n",
    "#print (\"logloss: %0.3f \" % multiclass_logloss(yvalid, predictions))\n",
    "\n",
    "y_pred = clf1.predict(xvalid_tfv)\n",
    "#predictions1 = [round(value) for value in y_pred]\n",
    "accuracy = accuracy_score(y_pred, yvalid)\n",
    "print(\"Accuracy: %.2f%%\" % (accuracy * 100.0))"
   ]
  },
  {
   "cell_type": "code",
   "execution_count": null,
   "metadata": {},
   "outputs": [],
   "source": [
    "ctv = CountVectorizer(analyzer='word',token_pattern=r'\\w{1,}',\n",
    "            ngram_range=(1, 3), stop_words = 'english')\n",
    "\n",
    "# Fitting Count Vectorizer to both training and test sets (semi-supervised learning)\n",
    "ctv.fit(list(xtrain) + list(xvalid))\n",
    "xtrain_ctv =  ctv.transform(xtrain) \n",
    "xvalid_ctv = ctv.transform(xvalid)"
   ]
  },
  {
   "cell_type": "code",
   "execution_count": null,
   "metadata": {},
   "outputs": [],
   "source": [
    "import pickle\n",
    "pickle.dump(ctv, open('ctv.pkl','wb'))"
   ]
  },
  {
   "cell_type": "code",
   "execution_count": null,
   "metadata": {},
   "outputs": [],
   "source": [
    "# Fitting a simple Logistic Regression on Counts\n",
    "from sklearn.linear_model import LogisticRegression\n",
    "clf2 = LogisticRegression(C=1.0)\n",
    "clf2.fit(xtrain_ctv, ytrain)\n",
    "predictions = clf2.predict_proba(xvalid_ctv)\n",
    "\n",
    "#print (\"logloss: %0.3f \" % multiclass_logloss(yvalid, predictions))\n",
    "y_pred = clf2.predict(xvalid_ctv)\n",
    "#predictions1 = [round(value) for value in y_pred]\n",
    "accuracy = accuracy_score(y_pred, yvalid)\n",
    "print(\"Accuracy: %.2f%%\" % (accuracy * 100.0))\n",
    "\n",
    "\n"
   ]
  },
  {
   "cell_type": "code",
   "execution_count": null,
   "metadata": {},
   "outputs": [],
   "source": [
    "import pickle\n",
    "pickle.dump(clf2, open('model3.pkl','wb'))"
   ]
  },
  {
   "cell_type": "code",
   "execution_count": null,
   "metadata": {},
   "outputs": [],
   "source": [
    "# Fitting a simple Naive Bayes on TFIDF\n",
    "from sklearn.naive_bayes import MultinomialNB\n",
    "clf3 = MultinomialNB()\n",
    "clf3.fit(xtrain_tfv, ytrain)\n",
    "predictions = clf3.predict_proba(xvalid_tfv)\n",
    "\n",
    "#print (\"logloss: %0.3f \" % multiclass_logloss(yvalid, predictions))\n",
    "y_pred = clf3.predict(xvalid_tfv)\n",
    "#predictions1 = [round(value) for value in y_pred]\n",
    "accuracy = accuracy_score(y_pred,yvalid)\n",
    "print(\"Accuracy: %.2f%%\" % (accuracy * 100.0))\n"
   ]
  },
  {
   "cell_type": "code",
   "execution_count": null,
   "metadata": {},
   "outputs": [],
   "source": [
    "# Fitting a simple Naive Bayes on Counts\n",
    "\n",
    "clf4 = MultinomialNB()\n",
    "clf4.fit(xtrain_ctv, ytrain)\n",
    "predictions = clf4.predict_proba(xvalid_ctv)\n",
    "\n",
    "#print (\"logloss: %0.3f \" % multiclass_logloss(yvalid, predictions))\n",
    "\n",
    "y_pred = clf4.predict(xvalid_ctv)\n",
    "#predictions = [round(value) for value in y_pred]\n",
    "accuracy = accuracy_score(y_pred,yvalid)\n",
    "print(\"Accuracy: %.2f%%\" % (accuracy * 100.0))"
   ]
  },
  {
   "cell_type": "code",
   "execution_count": null,
   "metadata": {},
   "outputs": [],
   "source": [
    "from sklearn import preprocessing, decomposition, model_selection, metrics, pipeline\n",
    "from sklearn.decomposition import TruncatedSVD\n",
    "# Apply SVD, I chose 120 components. 120-200 components are good enough for SVM model.\n",
    "svd = decomposition.TruncatedSVD(n_components=120)\n",
    "svd.fit(xtrain_tfv)\n",
    "xtrain_svd = svd.transform(xtrain_tfv)\n",
    "xvalid_svd = svd.transform(xvalid_tfv)\n",
    "\n",
    "# Scale the data obtained from SVD. Renaming variable to reuse without scaling.\n",
    "scl = preprocessing.StandardScaler()\n",
    "scl.fit(xtrain_svd)\n",
    "xtrain_svd_scl = scl.transform(xtrain_svd)\n",
    "xvalid_svd_scl = scl.transform(xvalid_svd)"
   ]
  },
  {
   "cell_type": "code",
   "execution_count": null,
   "metadata": {},
   "outputs": [],
   "source": [
    "pickle.dump(svd, open('svd.pkl','wb'))"
   ]
  },
  {
   "cell_type": "code",
   "execution_count": null,
   "metadata": {},
   "outputs": [],
   "source": [
    "# Fitting a simple SVM\n",
    "clf5 = SVC(C=1.0, probability=True) # since we need probabilities\n",
    "clf5.fit(xtrain_svd_scl, ytrain)\n",
    "predictions = clf5.predict_proba(xvalid_svd_scl)\n",
    "\n",
    "print (\"logloss: %0.3f \" % multiclass_logloss(yvalid, predictions))\n",
    "\n",
    "y_pred = clf5.predict(xvalid_svd_scl)\n",
    "#predictions1 = [round(value) for value in y_pred]\n",
    "accuracy = accuracy_score(y_pred,yvalid)\n",
    "print(\"Accuracy: %.2f%%\" % (accuracy * 100.0))"
   ]
  },
  {
   "cell_type": "code",
   "execution_count": null,
   "metadata": {},
   "outputs": [],
   "source": [
    "# Fitting a simple xgboost on tf-idf\n",
    "import xgboost as xgb\n",
    "clf6 = xgb.XGBClassifier(max_depth=7, n_estimators=200, colsample_bytree=0.8, \n",
    "                        subsample=0.8, nthread=10, learning_rate=0.1)\n",
    "clf6.fit(xtrain_tfv.tocsc(), ytrain)\n",
    "predictions = clf6.predict_proba(xvalid_tfv.tocsc())\n",
    "\n",
    "print (\"logloss: %0.3f \" % multiclass_logloss(yvalid, predictions))\n",
    "\n",
    "y_pred = clf6.predict(xvalid_tfv)\n",
    "predictions1 = [round(value) for value in y_pred]\n",
    "accuracy = accuracy_score(yvalid, predictions1)\n",
    "print(\"Accuracy: %.2f%%\" % (accuracy * 100.0))\n",
    "\n"
   ]
  },
  {
   "cell_type": "code",
   "execution_count": null,
   "metadata": {},
   "outputs": [],
   "source": []
  },
  {
   "cell_type": "code",
   "execution_count": null,
   "metadata": {},
   "outputs": [],
   "source": [
    "# Fitting a simple xgboost on tf-idf svd features\n",
    "import xgboost as xgb\n",
    "clf7 = xgb.XGBClassifier(max_depth=7, n_estimators=200, colsample_bytree=0.8, \n",
    "                        subsample=0.8, nthread=10, learning_rate=0.1)\n",
    "clf7.fit(xtrain_svd, ytrain)\n",
    "predictions = clf7.predict_proba(xvalid_svd)\n",
    "\n",
    "print (\"logloss: %0.3f \" % multiclass_logloss(yvalid, predictions))\n",
    "\n",
    "y_pred = clf7.predict(xvalid_svd)\n",
    "predictions1 = [round(value) for value in y_pred]\n",
    "accuracy = accuracy_score(yvalid, predictions1)\n",
    "print(\"Accuracy: %.2f%%\" % (accuracy * 100.0))"
   ]
  },
  {
   "cell_type": "code",
   "execution_count": null,
   "metadata": {},
   "outputs": [],
   "source": [
    "import pickle\n",
    "pickle.dump(clf7, open('model2.pkl','wb'))"
   ]
  },
  {
   "cell_type": "code",
   "execution_count": null,
   "metadata": {},
   "outputs": [],
   "source": [
    "# Fitting a simple xgboost on tf-idf svd features\n",
    "clf8 = xgb.XGBClassifier(nthread=10)\n",
    "clf8.fit(xtrain_svd, ytrain)\n",
    "predictions = clf8.predict_proba(xvalid_svd)\n",
    "\n",
    "print (\"logloss: %0.3f \" % multiclass_logloss(yvalid, predictions))\n",
    "\n",
    "y_pred = clf8.predict(xvalid_svd)\n",
    "predictions1 = [round(value) for value in y_pred]\n",
    "accuracy = accuracy_score(yvalid, predictions1)\n",
    "print(\"Accuracy: %.2f%%\" % (accuracy * 100.0))"
   ]
  },
  {
   "cell_type": "code",
   "execution_count": null,
   "metadata": {},
   "outputs": [],
   "source": [
    "mll_scorer = metrics.make_scorer(multiclass_logloss, greater_is_better=False, needs_proba=True)"
   ]
  },
  {
   "cell_type": "code",
   "execution_count": null,
   "metadata": {},
   "outputs": [],
   "source": [
    "# Initialize SVD\n",
    "svd = TruncatedSVD()\n",
    "    \n",
    "# Initialize the standard scaler \n",
    "scl = preprocessing.StandardScaler()\n",
    "\n",
    "# We will use logistic regression here..\n",
    "lr_model = LogisticRegression()\n",
    "\n",
    "# Create the pipeline \n",
    "clf9 = pipeline.Pipeline([('svd', svd),\n",
    "                         ('scl', scl),\n",
    "                         ('lr', lr_model)])"
   ]
  },
  {
   "cell_type": "code",
   "execution_count": null,
   "metadata": {},
   "outputs": [],
   "source": [
    "param_grid = {'svd__n_components' : [120, 180],\n",
    "              'lr__C': [0.1, 1.0, 10], \n",
    "              'lr__penalty': ['l1', 'l2']}"
   ]
  },
  {
   "cell_type": "code",
   "execution_count": null,
   "metadata": {},
   "outputs": [],
   "source": [
    "from sklearn.model_selection import GridSearchCV\n",
    "# Initialize Grid Search Model\n",
    "model = GridSearchCV(estimator=clf9, param_grid=param_grid, scoring=mll_scorer,\n",
    "                                 verbose=10, n_jobs=-1, iid=True, refit=True, cv=2)\n",
    "\n",
    "# Fit Grid Search Model\n",
    "model.fit(xtrain_tfv, ytrain)  # we can use the full data here but im only using xtrain\n",
    "print(\"Best score: %0.3f\" % model.best_score_)\n",
    "print(\"Best parameters set:\")\n",
    "best_parameters = model.best_estimator_.get_params()\n",
    "for param_name in sorted(param_grid.keys()):\n",
    "    print(\"\\t%s: %r\" % (param_name, best_parameters[param_name]))"
   ]
  },
  {
   "cell_type": "code",
   "execution_count": null,
   "metadata": {},
   "outputs": [],
   "source": [
    "# scale the data before any neural net:\n",
    "from sklearn import preprocessing, decomposition, model_selection, metrics, pipeline\n",
    "scl = preprocessing.StandardScaler()\n",
    "xtrain_glove_scl = scl.fit_transform(xtrain_glove)\n",
    "xvalid_glove_scl = scl.transform(xvalid_glove)"
   ]
  },
  {
   "cell_type": "code",
   "execution_count": null,
   "metadata": {},
   "outputs": [],
   "source": []
  }
 ],
 "metadata": {
  "kernelspec": {
   "display_name": "Python 3",
   "language": "python",
   "name": "python3"
  },
  "language_info": {
   "codemirror_mode": {
    "name": "ipython",
    "version": 3
   },
   "file_extension": ".py",
   "mimetype": "text/x-python",
   "name": "python",
   "nbconvert_exporter": "python",
   "pygments_lexer": "ipython3",
   "version": "3.8.3"
  }
 },
 "nbformat": 4,
 "nbformat_minor": 4
}
